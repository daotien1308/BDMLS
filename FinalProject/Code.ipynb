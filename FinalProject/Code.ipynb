{
 "cells": [
  {
   "cell_type": "markdown",
   "id": "d53125f5",
   "metadata": {},
   "source": [
    "# Presentation - Nhóm 2\n",
    "\n",
    "### Big Data Applications: Machine Learning at Scale\n",
    "\n",
    "### Đề tài: Music recommendation system\n",
    "\n",
    "### GV: Quách Đình Hoàng\n",
    "\n",
    "\n",
    "### Members:\n",
    "\n",
    "1. Nguyễn Anh Đắc - 19133020\n",
    "\n",
    "2. Nguyễn Thanh Tân Kỷ - 19133031\n",
    "\n",
    "3. Đào Thị Cẩm Tiên - 19133055\n",
    "\n",
    "4. Lại Hữu Trác - 19133059"
   ]
  },
  {
   "cell_type": "markdown",
   "id": "d46370f8",
   "metadata": {},
   "source": [
    "### Phần 1: Lý do chọn đề tài"
   ]
  },
  {
   "cell_type": "markdown",
   "id": "7bb498be",
   "metadata": {},
   "source": [
    "- Mục đích của nhóm khi chọn đề tài tạo ra một hệ thống đề xuất bài hát là để người dùng có thể dễ dàng tiếp cận với các bài hát phù hợp với sở thích của mình."
   ]
  },
  {
   "cell_type": "markdown",
   "id": "1304a7fd",
   "metadata": {},
   "source": [
    "### Phần 2: Giới thiệu về dataset"
   ]
  },
  {
   "cell_type": "markdown",
   "id": "7e667713",
   "metadata": {},
   "source": [
    "- Million Song là một bộ dữ liệu gồm các tính năng và siêu dữ liệu âm thanh được cung cấp miễn phí cho một triệu bản nhạc nổi tiếng đương thời.\n",
    "- Bộ dữ liệu Million Song bắt đầu là một dự án hợp tác giữa The Echo Nest và LabROSA. Nó được hỗ trợ một phần bởi NSF.\n",
    "    + Dataset Source: http://labrosa.ee.columbia.edu/millionsong/\n",
    "    + Paper: http://ismir2011.ismir.net/papers/OS6-1.pdf\n",
    "- Nhóm sẽ không sử dụng trực tiếp tập dữ liệu này, nhưng nhóm sẽ sử dụng một số phần của nó. \n",
    "    + Tập dữ liệu: Million Song - Recommendation Engines (Gồm có \"10000.txt\" và \"song_data.csv\")\n",
    "    + Link dataset: https://www.kaggle.com/code/mgmarques/million-song-recommendation-engines/data \n",
    "- Tập dữ liệu về user (10000.txt) có 3 cột và 2000000 dòng chứa số lượt phát của người dùng ẩn danh cho các bài hát có trong tập dữ liệu triệu bài hát\n",
    "    + user_id: ID của người dùng\n",
    "    + song_id: ID của bài hát\n",
    "    + listen_count: Lượt nghe của bài hát\n",
    "- Tập dữ liệu về bài hát (song_data.csv) có 5 cột và 1000000 dòng chứa các thuộc tính của một triệu bài hát\n",
    "    + song_id: ID của bài hát\n",
    "    + title: Tên bài hát\n",
    "    + release: Tên ablum của bài hát đó (\n",
    "    + artist_name: Tên nghệ sĩ, ca sĩ\n",
    "    + year: Năm bài hát được phát hành"
   ]
  },
  {
   "cell_type": "markdown",
   "id": "2b74e112",
   "metadata": {},
   "source": [
    "### Các mục tiêu về đề tài của nhóm:"
   ]
  },
  {
   "cell_type": "markdown",
   "id": "d7fbe1cb",
   "metadata": {},
   "source": [
    "1. Các nhạc sĩ đang thịnh hành\n",
    "2. Hiện thị top các bài hát đang thịnh hành trên hệ thống\n",
    "3. Tạo một hệ thống đề xuất các bài hát cho người dùng dựa vào số lượng lượt nghe của các bài hát"
   ]
  },
  {
   "cell_type": "markdown",
   "id": "5881ec69",
   "metadata": {},
   "source": [
    "### Phương pháp và thuật toán sử dụng:\n",
    "https://phamdinhkhanh.github.io/2019/11/04/Recommendation_Compound_Part1.html\n",
    "+ Có 3 cách tiếp cận hệ thống gợi ý:\n",
    "\n",
    "        + Content-based: Đưa ra các khuyến nghị mua bán cho người dùng dựa trên nội dung liên quan đến sản phẩm. Chẳng hạn một bài hát với các đặc điểm như: người biểu diễn , năm phát hành, thể loại,...\n",
    "        \n",
    "        + Collaborative filtering: Hay còn gọi là lọc cộng tác, sử dụng sự tương tác qua lại trong hành vi mua sắm giữa các khách hàng để tìm ra sở thích của một khách hàng đổi với một sản phẩm. Từ đó sẽ khuyến nghị sản phẩm cho khách hàng dựa trên hành vi của các khách hàng khác liên quan nhất.\n",
    "\n",
    "        + Kết hợp cả 2 phương pháp: Ngoài ra chúng ta cũng có thể sử dụng kết hợp cả 2 phương pháp trên để tạo thành một thuật toán kết hợp. Ưu điểm của phương pháp này đó là vừa tận dụng được các thông tin từ phía sản phẩm và các thông tin về hành vi mua sắm của người dùng.\n",
    "        \n",
    "+ Nhóm em sẽ thực hiện theo cách tiếp cận Collaborative filtering - xây dựng hệ thống gợi ý dựa trên các ngươi dùng tương đồng.\n",
    "+ Thuật toán sử dụng:\n",
    "Alternating least squares (bình phương tối thiểu xen kẽ)\n",
    "+ Độ đo: RMSE\n"
   ]
  },
  {
   "cell_type": "markdown",
   "id": "8c9183ef",
   "metadata": {},
   "source": [
    "##  1. Dataset"
   ]
  },
  {
   "cell_type": "code",
   "execution_count": 2,
   "id": "b4be56ae",
   "metadata": {},
   "outputs": [
    {
     "data": {
      "text/plain": [
       "Index(['song_id', 'title', 'release', 'artist_name', 'year'], dtype='object')"
      ]
     },
     "execution_count": 2,
     "metadata": {},
     "output_type": "execute_result"
    }
   ],
   "source": [
    "import pandas as pd\n",
    "import numpy as np\n",
    "import matplotlib.pyplot as plt\n",
    "import plotly.express as px\n",
    "import seaborn as sns\n",
    "\n",
    "data_song = pd.read_csv(\"song_data.csv\")\n",
    "data_song.columns"
   ]
  },
  {
   "cell_type": "code",
   "execution_count": 3,
   "id": "0d1ec977",
   "metadata": {},
   "outputs": [
    {
     "data": {
      "text/html": [
       "<div>\n",
       "<style scoped>\n",
       "    .dataframe tbody tr th:only-of-type {\n",
       "        vertical-align: middle;\n",
       "    }\n",
       "\n",
       "    .dataframe tbody tr th {\n",
       "        vertical-align: top;\n",
       "    }\n",
       "\n",
       "    .dataframe thead th {\n",
       "        text-align: right;\n",
       "    }\n",
       "</style>\n",
       "<table border=\"1\" class=\"dataframe\">\n",
       "  <thead>\n",
       "    <tr style=\"text-align: right;\">\n",
       "      <th></th>\n",
       "      <th>song_id</th>\n",
       "      <th>title</th>\n",
       "      <th>release</th>\n",
       "      <th>artist_name</th>\n",
       "      <th>year</th>\n",
       "    </tr>\n",
       "  </thead>\n",
       "  <tbody>\n",
       "    <tr>\n",
       "      <th>0</th>\n",
       "      <td>SOQMMHC12AB0180CB8</td>\n",
       "      <td>Silent Night</td>\n",
       "      <td>Monster Ballads X-Mas</td>\n",
       "      <td>Faster Pussy cat</td>\n",
       "      <td>2003</td>\n",
       "    </tr>\n",
       "    <tr>\n",
       "      <th>1</th>\n",
       "      <td>SOVFVAK12A8C1350D9</td>\n",
       "      <td>Tanssi vaan</td>\n",
       "      <td>Karkuteillä</td>\n",
       "      <td>Karkkiautomaatti</td>\n",
       "      <td>1995</td>\n",
       "    </tr>\n",
       "    <tr>\n",
       "      <th>2</th>\n",
       "      <td>SOGTUKN12AB017F4F1</td>\n",
       "      <td>No One Could Ever</td>\n",
       "      <td>Butter</td>\n",
       "      <td>Hudson Mohawke</td>\n",
       "      <td>2006</td>\n",
       "    </tr>\n",
       "    <tr>\n",
       "      <th>3</th>\n",
       "      <td>SOBNYVR12A8C13558C</td>\n",
       "      <td>Si Vos Querés</td>\n",
       "      <td>De Culo</td>\n",
       "      <td>Yerba Brava</td>\n",
       "      <td>2003</td>\n",
       "    </tr>\n",
       "    <tr>\n",
       "      <th>4</th>\n",
       "      <td>SOHSBXH12A8C13B0DF</td>\n",
       "      <td>Tangle Of Aspens</td>\n",
       "      <td>Rene Ablaze Presents Winter Sessions</td>\n",
       "      <td>Der Mystic</td>\n",
       "      <td>0</td>\n",
       "    </tr>\n",
       "  </tbody>\n",
       "</table>\n",
       "</div>"
      ],
      "text/plain": [
       "              song_id              title  \\\n",
       "0  SOQMMHC12AB0180CB8       Silent Night   \n",
       "1  SOVFVAK12A8C1350D9        Tanssi vaan   \n",
       "2  SOGTUKN12AB017F4F1  No One Could Ever   \n",
       "3  SOBNYVR12A8C13558C      Si Vos Querés   \n",
       "4  SOHSBXH12A8C13B0DF   Tangle Of Aspens   \n",
       "\n",
       "                                release       artist_name  year  \n",
       "0                 Monster Ballads X-Mas  Faster Pussy cat  2003  \n",
       "1                           Karkuteillä  Karkkiautomaatti  1995  \n",
       "2                                Butter    Hudson Mohawke  2006  \n",
       "3                               De Culo       Yerba Brava  2003  \n",
       "4  Rene Ablaze Presents Winter Sessions        Der Mystic     0  "
      ]
     },
     "execution_count": 3,
     "metadata": {},
     "output_type": "execute_result"
    }
   ],
   "source": [
    "# 3 dòng đầu tiên:\n",
    "data_song.head()"
   ]
  },
  {
   "cell_type": "code",
   "execution_count": 4,
   "id": "62f1dee6",
   "metadata": {},
   "outputs": [
    {
     "data": {
      "text/plain": [
       "(1000000, 5)"
      ]
     },
     "execution_count": 4,
     "metadata": {},
     "output_type": "execute_result"
    }
   ],
   "source": [
    "data_song.shape"
   ]
  },
  {
   "cell_type": "code",
   "execution_count": 5,
   "id": "b62bfe58",
   "metadata": {},
   "outputs": [
    {
     "data": {
      "text/html": [
       "<div>\n",
       "<style scoped>\n",
       "    .dataframe tbody tr th:only-of-type {\n",
       "        vertical-align: middle;\n",
       "    }\n",
       "\n",
       "    .dataframe tbody tr th {\n",
       "        vertical-align: top;\n",
       "    }\n",
       "\n",
       "    .dataframe thead th {\n",
       "        text-align: right;\n",
       "    }\n",
       "</style>\n",
       "<table border=\"1\" class=\"dataframe\">\n",
       "  <thead>\n",
       "    <tr style=\"text-align: right;\">\n",
       "      <th></th>\n",
       "      <th>year</th>\n",
       "    </tr>\n",
       "  </thead>\n",
       "  <tbody>\n",
       "    <tr>\n",
       "      <th>count</th>\n",
       "      <td>1000000.000000</td>\n",
       "    </tr>\n",
       "    <tr>\n",
       "      <th>mean</th>\n",
       "      <td>1030.325652</td>\n",
       "    </tr>\n",
       "    <tr>\n",
       "      <th>std</th>\n",
       "      <td>998.745002</td>\n",
       "    </tr>\n",
       "    <tr>\n",
       "      <th>min</th>\n",
       "      <td>0.000000</td>\n",
       "    </tr>\n",
       "    <tr>\n",
       "      <th>25%</th>\n",
       "      <td>0.000000</td>\n",
       "    </tr>\n",
       "    <tr>\n",
       "      <th>50%</th>\n",
       "      <td>1969.000000</td>\n",
       "    </tr>\n",
       "    <tr>\n",
       "      <th>75%</th>\n",
       "      <td>2002.000000</td>\n",
       "    </tr>\n",
       "    <tr>\n",
       "      <th>max</th>\n",
       "      <td>2011.000000</td>\n",
       "    </tr>\n",
       "  </tbody>\n",
       "</table>\n",
       "</div>"
      ],
      "text/plain": [
       "                 year\n",
       "count  1000000.000000\n",
       "mean      1030.325652\n",
       "std        998.745002\n",
       "min          0.000000\n",
       "25%          0.000000\n",
       "50%       1969.000000\n",
       "75%       2002.000000\n",
       "max       2011.000000"
      ]
     },
     "execution_count": 5,
     "metadata": {},
     "output_type": "execute_result"
    }
   ],
   "source": [
    "data_song.describe()"
   ]
  },
  {
   "cell_type": "code",
   "execution_count": 6,
   "id": "44860f8c",
   "metadata": {},
   "outputs": [
    {
     "data": {
      "text/html": [
       "<div>\n",
       "<style scoped>\n",
       "    .dataframe tbody tr th:only-of-type {\n",
       "        vertical-align: middle;\n",
       "    }\n",
       "\n",
       "    .dataframe tbody tr th {\n",
       "        vertical-align: top;\n",
       "    }\n",
       "\n",
       "    .dataframe thead th {\n",
       "        text-align: right;\n",
       "    }\n",
       "</style>\n",
       "<table border=\"1\" class=\"dataframe\">\n",
       "  <thead>\n",
       "    <tr style=\"text-align: right;\">\n",
       "      <th></th>\n",
       "      <th>user_id</th>\n",
       "      <th>song_id</th>\n",
       "      <th>listen_count</th>\n",
       "    </tr>\n",
       "  </thead>\n",
       "  <tbody>\n",
       "    <tr>\n",
       "      <th>0</th>\n",
       "      <td>b80344d063b5ccb3212f76538f3d9e43d87dca9e</td>\n",
       "      <td>SOAKIMP12A8C130995</td>\n",
       "      <td>1</td>\n",
       "    </tr>\n",
       "    <tr>\n",
       "      <th>1</th>\n",
       "      <td>b80344d063b5ccb3212f76538f3d9e43d87dca9e</td>\n",
       "      <td>SOBBMDR12A8C13253B</td>\n",
       "      <td>2</td>\n",
       "    </tr>\n",
       "    <tr>\n",
       "      <th>2</th>\n",
       "      <td>b80344d063b5ccb3212f76538f3d9e43d87dca9e</td>\n",
       "      <td>SOBXHDL12A81C204C0</td>\n",
       "      <td>1</td>\n",
       "    </tr>\n",
       "    <tr>\n",
       "      <th>3</th>\n",
       "      <td>b80344d063b5ccb3212f76538f3d9e43d87dca9e</td>\n",
       "      <td>SOBYHAJ12A6701BF1D</td>\n",
       "      <td>1</td>\n",
       "    </tr>\n",
       "    <tr>\n",
       "      <th>4</th>\n",
       "      <td>b80344d063b5ccb3212f76538f3d9e43d87dca9e</td>\n",
       "      <td>SODACBL12A8C13C273</td>\n",
       "      <td>1</td>\n",
       "    </tr>\n",
       "  </tbody>\n",
       "</table>\n",
       "</div>"
      ],
      "text/plain": [
       "                                    user_id             song_id  listen_count\n",
       "0  b80344d063b5ccb3212f76538f3d9e43d87dca9e  SOAKIMP12A8C130995             1\n",
       "1  b80344d063b5ccb3212f76538f3d9e43d87dca9e  SOBBMDR12A8C13253B             2\n",
       "2  b80344d063b5ccb3212f76538f3d9e43d87dca9e  SOBXHDL12A81C204C0             1\n",
       "3  b80344d063b5ccb3212f76538f3d9e43d87dca9e  SOBYHAJ12A6701BF1D             1\n",
       "4  b80344d063b5ccb3212f76538f3d9e43d87dca9e  SODACBL12A8C13C273             1"
      ]
     },
     "execution_count": 6,
     "metadata": {},
     "output_type": "execute_result"
    }
   ],
   "source": [
    "data_user = pd.read_csv('10000.txt', sep='\\t', header=None)\n",
    "data_user.columns = ['user_id', 'song_id', 'listen_count']\n",
    "data_user.head()\n"
   ]
  },
  {
   "cell_type": "code",
   "execution_count": 7,
   "id": "3e0cbc77",
   "metadata": {},
   "outputs": [
    {
     "data": {
      "text/plain": [
       "(2000000, 3)"
      ]
     },
     "execution_count": 7,
     "metadata": {},
     "output_type": "execute_result"
    }
   ],
   "source": [
    "data_user.shape"
   ]
  },
  {
   "cell_type": "code",
   "execution_count": 8,
   "id": "4f8c9482",
   "metadata": {},
   "outputs": [],
   "source": [
    "data_song.isna().sum()\n",
    "data_user=data_user.dropna()\n",
    "data_song=data_song.dropna()"
   ]
  },
  {
   "cell_type": "code",
   "execution_count": null,
   "id": "ba91138a",
   "metadata": {},
   "outputs": [],
   "source": [
    "# Count number user\n",
    "print(\"Number users: \",len(pd.unique(data_user['user_id'])))\n",
    "print(\"Number songs: \",len(pd.unique(data_song['song_id'])))"
   ]
  },
  {
   "cell_type": "markdown",
   "id": "03a9ab65",
   "metadata": {},
   "source": [
    "## 2. EDA"
   ]
  },
  {
   "cell_type": "code",
   "execution_count": 56,
   "id": "8878259c",
   "metadata": {},
   "outputs": [],
   "source": [
    "song_dataframe = pd.merge(data_user, data_song.drop_duplicates(['song_id']), on=\"song_id\", how=\"left\")"
   ]
  },
  {
   "cell_type": "markdown",
   "id": "6d2292c6",
   "metadata": {},
   "source": [
    "### Top 10 Most Popular Artists"
   ]
  },
  {
   "cell_type": "code",
   "execution_count": 59,
   "id": "d417e137",
   "metadata": {},
   "outputs": [
    {
     "data": {
      "text/plain": [
       "<Figure size 2500x1500 with 0 Axes>"
      ]
     },
     "metadata": {},
     "output_type": "display_data"
    },
    {
     "data": {
      "image/png": "[encoded data removed]",
      "text/plain": [
       "<Figure size 640x480 with 1 Axes>"
      ]
     },
     "metadata": {},
     "output_type": "display_data"
    }
   ],
   "source": [
    "fig = plt.figure(figsize=(25, 15))\n",
    "popular_artist = song_dataframe[['artist_name','listen_count']].groupby('artist_name').sum().\\\n",
    "                sort_values('listen_count', ascending=False).head(10).sort_values('listen_count')\n",
    "fig = popular_artist.plot(kind='barh', title='Top 10 Most Popular Artists', legend = False)\n",
    "plt.xticks(rotation = 45)\n",
    "plt.ylabel('Name of Artists')\n",
    "plt.show()"
   ]
  },
  {
   "cell_type": "markdown",
   "id": "932e7db2",
   "metadata": {},
   "source": [
    "### Top 10 Most Popular Songs"
   ]
  },
  {
   "cell_type": "code",
   "execution_count": 60,
   "id": "a82f3fa2",
   "metadata": {},
   "outputs": [
    {
     "data": {
      "text/plain": [
       "<Figure size 2500x1500 with 0 Axes>"
      ]
     },
     "metadata": {},
     "output_type": "display_data"
    },
    {
     "data": {
      "image/png": "[encoded data removed]",
      "text/plain": [
       "<Figure size 640x480 with 1 Axes>"
      ]
     },
     "metadata": {},
     "output_type": "display_data"
    }
   ],
   "source": [
    "fig = plt.figure(figsize=(25, 15))\n",
    "popular_songs = song_dataframe[['title','listen_count']].groupby('title').sum().\\\n",
    "                sort_values('listen_count', ascending = False).head(10).sort_values('listen_count')\n",
    "fig = popular_songs.plot(kind='barh', title = 'Top 10 Most Popular Songs', legend = False)\n",
    "plt.xticks(rotation= 45)\n",
    "plt.ylabel('Name of Song')\n",
    "plt.show()"
   ]
  },
  {
   "cell_type": "markdown",
   "id": "6b632c8c",
   "metadata": {},
   "source": [
    "### Top 20 Most Popular Years of Song Listen"
   ]
  },
  {
   "cell_type": "code",
   "execution_count": 62,
   "id": "b30bb4d4",
   "metadata": {},
   "outputs": [
    {
     "data": {
      "text/plain": [
       "<Figure size 2500x1500 with 0 Axes>"
      ]
     },
     "metadata": {},
     "output_type": "display_data"
    },
    {
     "data": {
      "image/png": "[encoded data removed]",
      "text/plain": [
       "<Figure size 640x480 with 1 Axes>"
      ]
     },
     "metadata": {},
     "output_type": "display_data"
    }
   ],
   "source": [
    "df1 = song_dataframe\n",
    "df1 = df1.loc[~((df1['year'] == 0))]\n",
    "fig = plt.figure(figsize=(25, 15))\n",
    "popular_year = df1[['year','listen_count']].groupby('year').sum().\\\n",
    "                sort_values('listen_count', ascending = False).head(20).sort_values('listen_count')\n",
    "fig = popular_year.plot(kind = 'bar', title = 'Top 20 Most Popular Years of Song Listen', legend=False)\n",
    "\n",
    "plt.xticks(rotation = 45)\n",
    "#plt.ticklabel_format(style='plain')\n",
    "plt.show()"
   ]
  },
  {
   "cell_type": "code",
   "execution_count": 10,
   "id": "a2318344",
   "metadata": {},
   "outputs": [],
   "source": [
    "import findspark\n",
    "findspark.init()\n",
    "\n",
    "import pyspark\n",
    "findspark.find()\n",
    "from pyspark.sql import SparkSession\n",
    "from pyspark.sql.functions import count, desc , col, max\n",
    "from pyspark.ml.feature import  StringIndexer\n",
    "from pyspark.ml import Pipeline\n",
    "from pyspark.ml.recommendation import ALS\n",
    "from pyspark.ml.tuning import TrainValidationSplit, ParamGridBuilder\n",
    "from pyspark.ml.evaluation import RegressionEvaluator"
   ]
  },
  {
   "cell_type": "code",
   "execution_count": 11,
   "id": "6e8d03e9",
   "metadata": {},
   "outputs": [],
   "source": [
    "spark = SparkSession.builder.appName(\"Music_Recommend_System\").getOrCreate()"
   ]
  },
  {
   "cell_type": "code",
   "execution_count": 12,
   "id": "063f8855",
   "metadata": {},
   "outputs": [
    {
     "name": "stderr",
     "output_type": "stream",
     "text": [
      "D:\\InstallApp\\PySpark\\spark-3.2.2-bin-hadoop3.2\\python\\pyspark\\sql\\pandas\\conversion.py:371: FutureWarning: iteritems is deprecated and will be removed in a future version. Use .items instead.\n",
      "  for column, series in pdf.iteritems():\n"
     ]
    }
   ],
   "source": [
    "df_listenings_agg  = spark.createDataFrame(data_user) #spark.read.text(file_path).option('header',True).option('inferSchema',True) #data frame, header will infer column types from csv\n",
    "df_song= spark.createDataFrame(data_song)"
   ]
  },
  {
   "cell_type": "code",
   "execution_count": 13,
   "id": "15a42d66",
   "metadata": {},
   "outputs": [],
   "source": [
    "# data_user.sample(n = 20000)\n",
    "df_listenings_agg = df_listenings_agg.sample(0.2,seed=123)#limit(20000)\n",
    "# df_listenings_agg.select(\"user_id\").distinct().show(10,False)"
   ]
  },
  {
   "cell_type": "markdown",
   "id": "f8c10617",
   "metadata": {},
   "source": [
    "## 2. Recommend Songs for user"
   ]
  },
  {
   "cell_type": "markdown",
   "id": "e56109c3",
   "metadata": {},
   "source": [
    "### 2.1 Training\n",
    "####  Params of  ALS\n",
    "    + rank: số lượng các yếu tố tiềm ẩn trong mô hình (10)\n",
    "    + maxIter: số lần lặp tối đa (10)\n",
    "    + regParam: tham số chuẩn hóa (10)"
   ]
  },
  {
   "cell_type": "code",
   "execution_count": 49,
   "id": "93dd2dde",
   "metadata": {},
   "outputs": [
    {
     "name": "stdout",
     "output_type": "stream",
     "text": [
      "+----------------------------------------+------------------+------------+-------------+-------------+\n",
      "|user_id                                 |song_id           |listen_count|user_id_index|song_id_index|\n",
      "+----------------------------------------+------------------+------------+-------------+-------------+\n",
      "|b80344d063b5ccb3212f76538f3d9e43d87dca9e|SOAKIMP12A8C130995|1           |15203.0      |2244.0       |\n",
      "|b80344d063b5ccb3212f76538f3d9e43d87dca9e|SODACBL12A8C13C273|1           |15203.0      |205.0        |\n",
      "|b80344d063b5ccb3212f76538f3d9e43d87dca9e|SONSAEZ12A8C138D7A|1           |15203.0      |1002.0       |\n",
      "|b80344d063b5ccb3212f76538f3d9e43d87dca9e|SORQHCG12A58A7EEBA|1           |15203.0      |9485.0       |\n",
      "|b80344d063b5ccb3212f76538f3d9e43d87dca9e|SOVQEYZ12A8C1379D8|1           |15203.0      |3351.0       |\n",
      "+----------------------------------------+------------------+------------+-------------+-------------+\n",
      "only showing top 5 rows\n",
      "\n"
     ]
    }
   ],
   "source": [
    "# Since the pyspark ML accepts only numeric input \n",
    "# => convert column from string type to numeric\n",
    "old_strindexer = [StringIndexer(inputCol = col, outputCol = col + '_index').fit(df_listenings_agg) for col in list(set(df_listenings_agg.columns)- set(['count']))]\n",
    "indexer = [curr_strindexer.setHandleInvalid(\"keep\") for curr_strindexer in old_strindexer]\n",
    "pipeline = Pipeline(stages = indexer)\n",
    "data_p = pipeline.fit(df_listenings_agg).transform(df_listenings_agg)\n",
    "data_p.select(\"user_id\",\"song_id\",\"listen_count\",\"user_id_index\",\"song_id_index\").show(5,False)"
   ]
  },
  {
   "cell_type": "code",
   "execution_count": 18,
   "id": "d4bb3da8",
   "metadata": {},
   "outputs": [
    {
     "name": "stdout",
     "output_type": "stream",
     "text": [
      "Training: 239790, validation: 80192, test: 79850\n",
      "\n"
     ]
    }
   ],
   "source": [
    "# Rank: là điều quan trọng nhất vì nó xác định các yếu tố tiềm ẩn sẽ được sử dụng để lập mô hình sản phẩm và các tính năng của người dùng. \n",
    "#         Theo kinh nghiệm của tôi, các giá trị trong khoảng 50-200 hoạt động tốt cho hầu hết các trường hợp\n",
    "# Vì ALS hội tụ khá nhanh nên thường không cần thay đổi tham số maxIter\n",
    "\n",
    "#Convert type of column\n",
    "data_p = data_p.withColumn(\"listen_count\", data_p[\"listen_count\"].cast('double'))\n",
    "# Split data\n",
    "seed=12314\n",
    "(training,validation, test) = data_p.randomSplit([0.6,0.2,0.2],seed=seed)\n",
    "print('Training: {0}, validation: {1}, test: {2}\\n'.format(\n",
    "  training.count(), validation.count(), test.count())\n",
    ")"
   ]
  },
  {
   "cell_type": "code",
   "execution_count": 19,
   "id": "4c421a3e",
   "metadata": {},
   "outputs": [
    {
     "name": "stdout",
     "output_type": "stream",
     "text": [
      "For rank 10, regularization parameter 0.1 the RMSE is 6.586945171228351\n",
      "For rank 20, regularization parameter 0.1 the RMSE is 6.3826030447968005\n",
      "For rank 50, regularization parameter 0.1 the RMSE is 6.297287620810098\n",
      "For rank 100, regularization parameter 0.1 the RMSE is 6.331886547973533\n",
      "For rank 10, regularization parameter 0.05 the RMSE is 7.104014530687913\n",
      "For rank 20, regularization parameter 0.05 the RMSE is 6.510684999591359\n",
      "For rank 50, regularization parameter 0.05 the RMSE is 6.32150319604525\n",
      "For rank 100, regularization parameter 0.05 the RMSE is 6.345900324716876\n",
      "For rank 10, regularization parameter 0.01 the RMSE is 9.439698519690005\n",
      "For rank 20, regularization parameter 0.01 the RMSE is 6.968828236712643\n",
      "For rank 50, regularization parameter 0.01 the RMSE is 6.354965192575943\n",
      "For rank 100, regularization parameter 0.01 the RMSE is 6.356039216523175\n",
      "The best model was trained with regularization parameter 0.1\n",
      "The best model was trained with rank 50\n"
     ]
    }
   ],
   "source": [
    "import os\n",
    "from pyspark.sql.types import *\n",
    "from pyspark.sql import functions as F\n",
    "\n",
    "# Let's initialize our ALS learner\n",
    "als = ALS()\n",
    "\n",
    "# Now set the parameters for the method\n",
    "als.setMaxIter(5)\\\n",
    "   .setSeed(seed)\\\n",
    "   .setItemCol(\"song_id_index\")\\\n",
    "   .setRatingCol(\"listen_count\")\\\n",
    "   .setUserCol(\"user_id_index\")\n",
    "\n",
    "reg_eval = RegressionEvaluator(predictionCol=\"prediction\", labelCol=\"listen_count\", metricName=\"rmse\")\n",
    "\n",
    "ranks = [10,20,50,100]\n",
    "regParams = [0.1,0.05,0.01]\n",
    "errors = [[0]*len(ranks)]*len(regParams)\n",
    "models = [[0]*len(ranks)]*len(regParams)\n",
    "err = 0\n",
    "min_error = float('inf')\n",
    "best_rank = -1\n",
    "i = 0\n",
    "\n",
    "for regParam in regParams:\n",
    "    j = 0\n",
    "    for rank in ranks:\n",
    "        # Set the rank here:\n",
    "        als.setParams(rank = rank, regParam = regParam)\n",
    "        # Create the model with these parameters.\n",
    "        model = als.fit(training)\n",
    "        # Run the model to create a prediction. Predict against the validation_df.\n",
    "        predict_df = model.transform(validation)\n",
    "\n",
    "        # Remove NaN values from prediction (due to SPARK-14489)\n",
    "        predicted_listen_count = predict_df.filter(predict_df.prediction != float('nan'))\n",
    "        predicted_listen_count = predicted_listen_count.withColumn(\"prediction\", F.abs(F.round(predicted_listen_count[\"prediction\"],0)))\n",
    "        # Run the previously created RMSE evaluator, reg_eval, on the predicted_ratings_df DataFrame\n",
    "        error = reg_eval.evaluate(predicted_listen_count)\n",
    "        errors[i][j] = error\n",
    "        models[i][j] = model\n",
    "        print ('For rank %s, regularization parameter %s the RMSE is %s' % (rank, regParam, error))\n",
    "        if error < min_error:\n",
    "            min_error = error\n",
    "            best_params = [i,j]\n",
    "        j += 1\n",
    "    i += 1\n",
    "\n",
    "als.setRegParam(regParams[best_params[0]])\n",
    "als.setRank(ranks[best_params[1]])\n",
    "print ('The best model was trained with regularization parameter %s' % regParams[best_params[0]])\n",
    "print ('The best model was trained with rank %s' % ranks[best_params[1]])\n",
    "my_model = models[best_params[0]][best_params[1]]\n"
   ]
  },
  {
   "cell_type": "markdown",
   "id": "e196dcbb",
   "metadata": {},
   "source": [
    "### 2.2 Select best model and evaluate on set of test"
   ]
  },
  {
   "cell_type": "code",
   "execution_count": 20,
   "id": "f9921f05",
   "metadata": {},
   "outputs": [
    {
     "name": "stdout",
     "output_type": "stream",
     "text": [
      "The model have RMSE on the test:6.823732568217108\n"
     ]
    }
   ],
   "source": [
    "# Make predictions on test \n",
    "predictions = my_model.transform(test)\n",
    "predicted_test_df = predictions.filter(predictions.prediction != float('nan'))# more information for this: https://issues.apache.org/jira/browse/SPARK-14489\n",
    "# Round floats to whole numbers\n",
    "predicted_test_df = predicted_test_df.withColumn(\"prediction\", F.abs(F.round(predicted_test_df[\"prediction\"],0)))\n",
    "\n",
    "test_RMSE = reg_eval.evaluate(predicted_test_df)\n",
    "\n",
    "print('The model have RMSE on the test:{0}'.format(test_RMSE))\n"
   ]
  },
  {
   "cell_type": "code",
   "execution_count": 21,
   "id": "4825b1b1",
   "metadata": {},
   "outputs": [
    {
     "name": "stdout",
     "output_type": "stream",
     "text": [
      "+----------------------------------------+------------------+----------+------------+\n",
      "|user_id                                 |song_id           |prediction|listen_count|\n",
      "+----------------------------------------+------------------+----------+------------+\n",
      "|1820cfffd52cad7b3af398f379524d51579655d2|SOKXHKF12A6D4F863E|13.0      |3.0         |\n",
      "|22d1bec316a779b9b5cb2009718cd3b2ac7c7980|SOWTAVD12B0B8090C2|1.0       |1.0         |\n",
      "|9ebbacf5dd16bb1708f7e1b59929c3bf1f601f10|SOGWJEY12AC9618862|1.0       |1.0         |\n",
      "|e912c463bc307f2f8839ad184eac6d5b2dca24c6|SOHHSYJ12AB017F40A|1.0       |1.0         |\n",
      "|178e43d9c4e6cfccf3a371aed3532bc0ef030f11|SOTUUWK12AB01821C6|1.0       |1.0         |\n",
      "|438d8293738a2babf4e880a86a5267389bc5f901|SOFSGBJ12A8AE4645B|1.0       |1.0         |\n",
      "|fe206eb14e83ebf4e8208bd177af090535049eca|SOWLCQY12A6D4F84CF|1.0       |2.0         |\n",
      "|fe6824e9573c36cbd2ca499f2978c5cd98746c92|SOPSDYY12A8C13E1D2|0.0       |1.0         |\n",
      "|398c496404dd09c21317a050ae4d5d848eb49273|SOJOIMC12AB01800A0|1.0       |5.0         |\n",
      "|0dc8d048b7c4b7e02719c44566f8d21334ad41ea|SOGUTHR12A6701FFB7|1.0       |5.0         |\n",
      "+----------------------------------------+------------------+----------+------------+\n",
      "only showing top 10 rows\n",
      "\n"
     ]
    }
   ],
   "source": [
    "predicted_test_df.select(\"user_id\",\"song_id\",\"prediction\",\"listen_count\").show(10,False)"
   ]
  },
  {
   "cell_type": "markdown",
   "id": "3c2a0016",
   "metadata": {},
   "source": [
    "### 2.3 Recommend for user"
   ]
  },
  {
   "cell_type": "code",
   "execution_count": 46,
   "id": "f58d3611",
   "metadata": {},
   "outputs": [
    {
     "name": "stdout",
     "output_type": "stream",
     "text": [
      "+-------------+----------------------------------------------------------------------------------------------+\n",
      "|user_id_index|recommendations                                                                               |\n",
      "+-------------+----------------------------------------------------------------------------------------------+\n",
      "|26           |[{8214, 111.74376}, {8003, 70.00746}, {7693, 53.893803}, {4958, 41.137005}, {7781, 40.067047}]|\n",
      "|27           |[{3749, 44.985424}, {7781, 42.285076}, {7165, 22.826164}, {7530, 22.287949}, {8444, 21.45257}]|\n",
      "|28           |[{8214, 87.85958}, {115, 43.02018}, {4140, 38.614113}, {7068, 34.16303}, {7568, 30.221153}]   |\n",
      "|31           |[{7568, 32.777023}, {7781, 31.514816}, {1738, 30.614506}, {7530, 27.36052}, {5161, 25.455738}]|\n",
      "|34           |[{5326, 51.9105}, {7568, 47.52175}, {5161, 39.267605}, {7530, 38.239445}, {1738, 36.973873}]  |\n",
      "+-------------+----------------------------------------------------------------------------------------------+\n",
      "only showing top 5 rows\n",
      "\n"
     ]
    }
   ],
   "source": [
    "# recommend songs for user\n",
    "recs_user = my_model.recommendForAllUsers(5)\n",
    "recs_user.show(5,False)"
   ]
  },
  {
   "cell_type": "code",
   "execution_count": 27,
   "id": "4f513fb2",
   "metadata": {
    "scrolled": true
   },
   "outputs": [
    {
     "name": "stderr",
     "output_type": "stream",
     "text": [
      "D:\\InstallApp\\PySpark\\spark-3.2.2-bin-hadoop3.2\\python\\pyspark\\sql\\pandas\\conversion.py:371: FutureWarning: iteritems is deprecated and will be removed in a future version. Use .items instead.\n",
      "  for column, series in pdf.iteritems():\n"
     ]
    },
    {
     "name": "stdout",
     "output_type": "stream",
     "text": [
      "+------------------+--------------------+--------------------+--------------------+----+----------+\n",
      "|           song_id|               title|             release|         artist_name|year|prediction|\n",
      "+------------------+--------------------+--------------------+--------------------+----+----------+\n",
      "|SOJSXJY12A8C13E32E|Clara meets Slope...|   All I Can Provide|          Clara Hill|2006|      14.0|\n",
      "|SODBCUG12A67AE0927|            Heysátan|             Takk...|           Sigur Rós|2005|      15.0|\n",
      "|SOERVXG12A6D4F5583|        Besame Mucho|The Best of Andre...|      Andrea Bocelli|2006|      15.0|\n",
      "|SOUWZPO12A6D4F83E3|South Side (Digit...|Here Comes Louis ...|         Louis Smith|   0|      15.0|\n",
      "|SOGBGZF12A6D4F6925| Beneath The Surface| Beneath The Surface|GZA/Genius / Kill...|1999|      16.0|\n",
      "|SOKXVGY12A8AE4841E|               Drunk|       Confide In Me|       Kylie Minogue|1997|      16.0|\n",
      "|SOZCDWG12A6D4F81E1|A Beggar On A Bea...|Beggar On A Beach...|Mike And The Mech...|1995|      17.0|\n",
      "|SODYZVS12A6D4F5E46|Microfoni Assassi...|Alan Sorrenti: Th...|       Alan Sorrenti|   0|      20.0|\n",
      "|SOKYPQN12AF72A1F53|                 DOA|                 DOA|        Foo Fighters|2005|      22.0|\n",
      "|SOWHUXB12AB01816EE|  This Is The Future|  Maybe I'm Dreaming|            Owl City|2008|      31.0|\n",
      "+------------------+--------------------+--------------------+--------------------+----+----------+\n",
      "\n"
     ]
    }
   ],
   "source": [
    "def get_index_of_user_id(user_id):\n",
    "    result=data_p.filter(data_p[\"user_id\"]==user_id).select(\"user_id_index\")\n",
    "    if result.rdd.isEmpty():\n",
    "        return -1\n",
    "    return result.collect()[0][0]\n",
    "\n",
    "\n",
    "def get_recs_for_user(recs):\n",
    "    recs = recs.select(\"recommendations.song_id_index\",\"recommendations.rating\")\n",
    "    songs=recs.select(\"song_id_index\").toPandas().iloc[0,0]\n",
    "    listencount=recs.select(\"rating\").toPandas().iloc[0,0]\n",
    "    ltc_matrix = pd.DataFrame(songs,columns=[\"song_id_index\"])\n",
    "    ltc_matrix[\"prediction\"] = listencount\n",
    "    ltc_matrix_ps = spark.createDataFrame(ltc_matrix)\n",
    "    ltc_matrix_ps=ltc_matrix_ps.join(data_p.select(\"song_id\",\"song_id_index\").distinct(),               \n",
    "                     ltc_matrix_ps.song_id_index==data_p.song_id_index\n",
    "                    ,\"inner\"\n",
    "                    ).select(\"song_id\",\"prediction\")\n",
    "    ltc_matrix_ps=ltc_matrix_ps.withColumn(\"prediction\", F.abs(F.round(ltc_matrix_ps[\"prediction\"],0)))\n",
    "    ltc_matrix_ps=df_song.join(ltc_matrix_ps,\n",
    "                              df_song.song_id==ltc_matrix_ps.song_id, \n",
    "                              'inner').drop(ltc_matrix_ps.song_id).select(\"song_id\",\"title\",\"release\",\"artist_name\",\"year\",\"prediction\")\n",
    "    return ltc_matrix_ps\n",
    "\n",
    "user_id=\"b80344d063b5ccb3212f76538f3d9e43d87dca9e\"\n",
    "user_id_index=get_index_of_user_id(user_id)\n",
    "if(user_id_index>-1):\n",
    "    # recommend for a special user\n",
    "    a=get_recs_for_user(recs_user.filter(recs_user[\"user_id_index\"]==user_id_index))\n",
    "\n",
    "    a.orderBy(\"prediction\").show()\n",
    "\n"
   ]
  },
  {
   "cell_type": "code",
   "execution_count": 45,
   "id": "fb5d5f5c",
   "metadata": {},
   "outputs": [
    {
     "name": "stdout",
     "output_type": "stream",
     "text": [
      "+-------------+--------------------------------------------------------------------------------------------------+\n",
      "|song_id_index|recommendations                                                                                   |\n",
      "+-------------+--------------------------------------------------------------------------------------------------+\n",
      "|26           |[{5464, 64.96053}, {18430, 62.371025}, {54538, 57.99699}, {16147, 54.97996}, {24407, 46.99305}]   |\n",
      "|27           |[{10453, 66.97173}, {16070, 47.042305}, {5545, 43.97243}, {27576, 34.398697}, {31550, 31.690132}] |\n",
      "|28           |[{8570, 122.97425}, {64571, 85.99643}, {16070, 39.233624}, {19396, 31.997284}, {24047, 30.012691}]|\n",
      "|31           |[{108, 23.712029}, {13662, 20.94339}, {20290, 15.970385}, {23769, 12.977261}, {20071, 10.974971}] |\n",
      "|34           |[{18430, 332.97678}, {41700, 79.766464}, {24407, 70.85786}, {16070, 69.58035}, {36583, 68.50278}] |\n",
      "+-------------+--------------------------------------------------------------------------------------------------+\n",
      "only showing top 5 rows\n",
      "\n"
     ]
    }
   ],
   "source": [
    "# recommend users for song\n",
    "recs_song = my_model.recommendForAllItems(5)\n",
    "recs_song.show(5,False)"
   ]
  },
  {
   "cell_type": "code",
   "execution_count": 30,
   "id": "3d44c7f2",
   "metadata": {},
   "outputs": [
    {
     "name": "stderr",
     "output_type": "stream",
     "text": [
      "D:\\InstallApp\\PySpark\\spark-3.2.2-bin-hadoop3.2\\python\\pyspark\\sql\\pandas\\conversion.py:371: FutureWarning: iteritems is deprecated and will be removed in a future version. Use .items instead.\n",
      "  for column, series in pdf.iteritems():\n"
     ]
    },
    {
     "name": "stdout",
     "output_type": "stream",
     "text": [
      "+----------------------------------------+----------+\n",
      "|user_id                                 |prediction|\n",
      "+----------------------------------------+----------+\n",
      "|762c6fa3791c68f5b530b91a3413a8f480df2099|40.0      |\n",
      "|5244dd7f3b476a0540153a2720aac03c19c73a20|34.0      |\n",
      "|99b7b94d6a8f45f674932831d17de4ec90844346|25.0      |\n",
      "|422fdf853edaa22cfbf7956630d1a9d702d4072c|23.0      |\n",
      "|92527b5bd39847108a05e183cbed2e3633aa40ef|25.0      |\n",
      "|ce341a2d2a5ea28cc2f30d7919a1c176434e6969|22.0      |\n",
      "|fc54f6bb5a9bec25874b454c5969e58a91889f4d|22.0      |\n",
      "|c1a32e72a5ad7e84161f2ac990759a5734419b21|21.0      |\n",
      "|0b19fe0fad7ca85693846f7dad047c449784647e|17.0      |\n",
      "|887c9b186223f770e483923a6995d4e1662bbf8f|17.0      |\n",
      "+----------------------------------------+----------+\n",
      "\n"
     ]
    }
   ],
   "source": [
    "def get_index_of_song_id(song_id):\n",
    "    result=data_p.filter(data_p[\"song_id\"]==song_id).select(\"song_id_index\")\n",
    "    if result.rdd.isEmpty():\n",
    "        return -1\n",
    "    return result.collect()[0][0]\n",
    "\n",
    "\n",
    "def get_recs_for_a_song(recs):\n",
    "    recs = recs.select(\"recommendations.user_id_index\",\"recommendations.rating\")\n",
    "    users=recs.select(\"user_id_index\").toPandas().iloc[0,0]\n",
    "    listencount=recs.select(\"rating\").toPandas().iloc[0,0]\n",
    "    ltc_matrix = pd.DataFrame(users,columns=[\"user_id_index\"])\n",
    "    ltc_matrix[\"prediction\"] = listencount\n",
    "    ltc_matrix_ps = spark.createDataFrame(ltc_matrix)\n",
    "    ltc_matrix_ps=ltc_matrix_ps.join(data_p.select(\"user_id\",\"user_id_index\").distinct(),               \n",
    "                     ltc_matrix_ps.user_id_index==data_p.user_id_index\n",
    "                    ,\"inner\"\n",
    "                    ).select(\"user_id\",\"prediction\")\n",
    "    ltc_matrix_ps=ltc_matrix_ps.withColumn(\"prediction\", F.abs(F.round(ltc_matrix_ps[\"prediction\"],0)))\n",
    "\n",
    "    return ltc_matrix_ps\n",
    "\n",
    "song_id=\"SOCKSGZ12A58A7CA4B\"\n",
    "song_id_index=get_index_of_song_id(song_id)\n",
    "if(song_id_index>-1):\n",
    "    # recommend for a special song\n",
    "    b=get_recs_for_a_song(recs_song.filter(recs_song[\"song_id_index\"]==song_id_index))\n",
    "    b.show(10,False)"
   ]
  },
  {
   "cell_type": "code",
   "execution_count": 31,
   "id": "b2544afa",
   "metadata": {},
   "outputs": [],
   "source": [
    "#  my_model.save(\"./model_recommend_song_for_user\")"
   ]
  },
  {
   "cell_type": "markdown",
   "id": "15790d65",
   "metadata": {},
   "source": [
    "## 3. Recommend artists for user"
   ]
  },
  {
   "cell_type": "code",
   "execution_count": 32,
   "id": "8d80f229",
   "metadata": {},
   "outputs": [
    {
     "name": "stdout",
     "output_type": "stream",
     "text": [
      "+--------------------+--------------------+------------+\n",
      "|             user_id|         artist_name|listen_count|\n",
      "+--------------------+--------------------+------------+\n",
      "|c9c44b6a8e8728e70...|           Seu Jorge|           3|\n",
      "|8d4f1822e21f0a91f...|           Seu Jorge|           1|\n",
      "|233036b55aad72c53...|        Jimi Hendrix|           1|\n",
      "|39fdb665ce16d51ef...|               Feist|           3|\n",
      "|39ba95440835a0c43...|           Daft Punk|           2|\n",
      "|fe979a7b199de3ee8...|        The Ventures|           1|\n",
      "|bb21097bd36275b07...|     Curtis Mayfield|           1|\n",
      "|7bc3c518191756ab3...|         The Prodigy|           2|\n",
      "|a883f0da4b362a7ca...|            Paramore|           1|\n",
      "|6a944bfe30ae8d6b8...|          Ryan Adams|          43|\n",
      "|cd47f11d66541dab1...|       Faith No More|          14|\n",
      "|d3ea5a391823b95d2...|     Aretha Franklin|           1|\n",
      "|95e8810b2f4234c90...|   The Lonely Island|           3|\n",
      "|14e25113a07fe7960...|Five Finger Death...|           1|\n",
      "|9442f74726a2f682c...| Simian Mobile Disco|           4|\n",
      "|1e3483eb876e42290...|                 Can|           1|\n",
      "|bc4ac44e63282902a...|   Empire Of The Sun|           3|\n",
      "|24bedcf0dde551385...|         James Blunt|           2|\n",
      "|629b64c113fedb5b1...|           Metallica|           1|\n",
      "|a06c2f59c56b356db...|             Incubus|           2|\n",
      "+--------------------+--------------------+------------+\n",
      "only showing top 20 rows\n",
      "\n"
     ]
    }
   ],
   "source": [
    "df_artist_listen=df_listenings_agg.join(df_song.select(\"song_id\",\"artist_name\").distinct(),\n",
    "                       df_listenings_agg.song_id==df_song.song_id\n",
    "                       ,\"inner\").select('user_id','artist_name', 'listen_count').groupby('user_id','artist_name').sum('listen_count').withColumnRenamed(\"sum(listen_count)\", 'listen_count')\n",
    "df_artist_listen.show()"
   ]
  },
  {
   "cell_type": "markdown",
   "id": "fa507764",
   "metadata": {},
   "source": [
    "### 3.1 Training for recommend artist"
   ]
  },
  {
   "cell_type": "code",
   "execution_count": 33,
   "id": "e7b7b0be",
   "metadata": {},
   "outputs": [],
   "source": [
    "#convert column to numberic\n",
    "old_strindexer = [StringIndexer(inputCol = col, outputCol = col + '_index').fit(df_artist_listen) for col in list(set(df_artist_listen.columns)- set(['count']))]\n",
    "indexer = [curr_strindexer.setHandleInvalid(\"keep\") for curr_strindexer in old_strindexer]\n",
    "pipeline = Pipeline(stages = indexer)\n",
    "df_artist_listen = pipeline.fit(df_artist_listen).transform(df_artist_listen)"
   ]
  },
  {
   "cell_type": "code",
   "execution_count": 51,
   "id": "ec1000e8",
   "metadata": {},
   "outputs": [
    {
     "name": "stdout",
     "output_type": "stream",
     "text": [
      "+--------------------+--------------------+------------+-------------+-----------------+\n",
      "|             user_id|         artist_name|listen_count|user_id_index|artist_name_index|\n",
      "+--------------------+--------------------+------------+-------------+-----------------+\n",
      "|c9c44b6a8e8728e70...|           Seu Jorge|         3.0|      18994.0|           1627.0|\n",
      "|8d4f1822e21f0a91f...|           Seu Jorge|         1.0|        801.0|           1627.0|\n",
      "|233036b55aad72c53...|        Jimi Hendrix|         1.0|      13319.0|            397.0|\n",
      "|39fdb665ce16d51ef...|               Feist|         3.0|        877.0|            160.0|\n",
      "|39ba95440835a0c43...|           Daft Punk|         2.0|       2775.0|              5.0|\n",
      "|fe979a7b199de3ee8...|        The Ventures|         1.0|      68615.0|           1734.0|\n",
      "|bb21097bd36275b07...|     Curtis Mayfield|         1.0|       1108.0|           2149.0|\n",
      "|7bc3c518191756ab3...|         The Prodigy|         2.0|       6577.0|            240.0|\n",
      "|a883f0da4b362a7ca...|            Paramore|         1.0|      12094.0|             37.0|\n",
      "|6a944bfe30ae8d6b8...|          Ryan Adams|        43.0|         27.0|            600.0|\n",
      "|cd47f11d66541dab1...|       Faith No More|        14.0|      24010.0|            153.0|\n",
      "|d3ea5a391823b95d2...|     Aretha Franklin|         1.0|       1461.0|           1673.0|\n",
      "|95e8810b2f4234c90...|   The Lonely Island|         3.0|      14732.0|            285.0|\n",
      "|14e25113a07fe7960...|Five Finger Death...|         1.0|       8793.0|            193.0|\n",
      "|9442f74726a2f682c...| Simian Mobile Disco|         4.0|       4754.0|            164.0|\n",
      "|1e3483eb876e42290...|                 Can|         1.0|      20410.0|           1148.0|\n",
      "|bc4ac44e63282902a...|   Empire Of The Sun|         3.0|      15169.0|            419.0|\n",
      "|24bedcf0dde551385...|         James Blunt|         2.0|      20561.0|            313.0|\n",
      "|629b64c113fedb5b1...|           Metallica|         1.0|       7715.0|             14.0|\n",
      "|a06c2f59c56b356db...|             Incubus|         2.0|       4791.0|             94.0|\n",
      "+--------------------+--------------------+------------+-------------+-----------------+\n",
      "only showing top 20 rows\n",
      "\n"
     ]
    }
   ],
   "source": [
    "df_artist_listen.select(\"user_id\",\"artist_name\",\"listen_count\",\"user_id_index\",\"artist_name_index\").show()"
   ]
  },
  {
   "cell_type": "code",
   "execution_count": 35,
   "id": "85ba2c41",
   "metadata": {},
   "outputs": [
    {
     "name": "stdout",
     "output_type": "stream",
     "text": [
      "Training: 205371, validation: 68602, test: 68477\n",
      "\n"
     ]
    }
   ],
   "source": [
    "#convert col(listen_count) to double\n",
    "df_artist_listen = df_artist_listen.withColumn(\"listen_count\", df_artist_listen[\"listen_count\"].cast('double'))\n",
    "seed=12314\n",
    "# Split data\n",
    "(training,validation, test) = df_artist_listen.randomSplit([0.6,0.2,0.2],seed=seed)\n",
    "print('Training: {0}, validation: {1}, test: {2}\\n'.format(\n",
    "  training.count(), validation.count(), test.count())\n",
    ")"
   ]
  },
  {
   "cell_type": "code",
   "execution_count": 36,
   "id": "3dc3e462",
   "metadata": {},
   "outputs": [
    {
     "name": "stdout",
     "output_type": "stream",
     "text": [
      "For rank 10, regularization parameter 0.1 the RMSE is 8.08165218327163\n",
      "For rank 15, regularization parameter 0.1 the RMSE is 7.71015941584906\n",
      "For rank 20, regularization parameter 0.1 the RMSE is 7.687505981591465\n",
      "For rank 50, regularization parameter 0.1 the RMSE is 7.410291010047718\n",
      "For rank 10, regularization parameter 0.05 the RMSE is 9.063071110465904\n",
      "For rank 15, regularization parameter 0.05 the RMSE is 8.270502889565895\n",
      "For rank 20, regularization parameter 0.05 the RMSE is 8.121524696416477\n",
      "For rank 50, regularization parameter 0.05 the RMSE is 7.479044099956255\n",
      "For rank 10, regularization parameter 0.01 the RMSE is 13.464960775412163\n",
      "For rank 15, regularization parameter 0.01 the RMSE is 11.127168522011923\n",
      "For rank 20, regularization parameter 0.01 the RMSE is 9.583661002863463\n",
      "For rank 50, regularization parameter 0.01 the RMSE is 7.562720619494225\n",
      "The best model was trained with regularization parameter 0.1\n",
      "The best model was trained with rank 50\n"
     ]
    }
   ],
   "source": [
    "import os\n",
    "from pyspark.sql.types import *\n",
    "from pyspark.sql import functions as F\n",
    "\n",
    "# Let's initialize our ALS learner\n",
    "als = ALS()\n",
    "\n",
    "# Now set the parameters for the method\n",
    "als.setMaxIter(5)\\\n",
    "   .setSeed(seed)\\\n",
    "   .setItemCol(\"artist_name_index\")\\\n",
    "   .setRatingCol(\"listen_count\")\\\n",
    "   .setUserCol(\"user_id_index\")\n",
    "\n",
    "reg_eval = RegressionEvaluator(predictionCol=\"prediction\", labelCol=\"listen_count\", metricName=\"rmse\")\n",
    "\n",
    "ranks = [10,15,20,50]\n",
    "regParams = [0.1,0.05,0.01]\n",
    "errors = [[0]*len(ranks)]*len(regParams)\n",
    "models = [[0]*len(ranks)]*len(regParams)\n",
    "err = 0\n",
    "min_error = float('inf')\n",
    "best_rank = -1\n",
    "i = 0\n",
    "\n",
    "for regParam in regParams:\n",
    "    j = 0\n",
    "    for rank in ranks:\n",
    "        # Set the rank here:\n",
    "        als.setParams(rank = rank, regParam = regParam)\n",
    "        # Create the model with these parameters.\n",
    "        model = als.fit(training)\n",
    "        # Run the model to create a prediction. Predict against the validation_df.\n",
    "        predict_df = model.transform(validation)\n",
    "\n",
    "        # Remove NaN values from prediction (due to SPARK-14489)\n",
    "        predicted_listen_count = predict_df.filter(predict_df.prediction != float('nan'))\n",
    "        predicted_listen_count = predicted_listen_count.withColumn(\"prediction\", F.abs(F.round(predicted_listen_count[\"prediction\"],0)))\n",
    "        # Run the previously created RMSE evaluator, reg_eval, on the predicted_ratings_df DataFrame\n",
    "        error = reg_eval.evaluate(predicted_listen_count)\n",
    "        errors[i][j] = error\n",
    "        models[i][j] = model\n",
    "        print ('For rank %s, regularization parameter %s the RMSE is %s' % (rank, regParam, error))\n",
    "        if error < min_error:\n",
    "            min_error = error\n",
    "            best_params = [i,j]\n",
    "        j += 1\n",
    "    i += 1\n",
    "\n",
    "als.setRegParam(regParams[best_params[0]])\n",
    "als.setRank(ranks[best_params[1]])\n",
    "print ('The best model was trained with regularization parameter %s' % regParams[best_params[0]])\n",
    "print ('The best model was trained with rank %s' % ranks[best_params[1]])\n",
    "recommend_artist_model = models[best_params[0]][best_params[1]]\n"
   ]
  },
  {
   "cell_type": "markdown",
   "id": "2205d435",
   "metadata": {},
   "source": [
    "### 3.2 Select best model and evaluate on set of test"
   ]
  },
  {
   "cell_type": "code",
   "execution_count": 37,
   "id": "7cf58ee2",
   "metadata": {},
   "outputs": [
    {
     "name": "stdout",
     "output_type": "stream",
     "text": [
      "The model have RMSE on the test:8.150307430069082\n"
     ]
    }
   ],
   "source": [
    "# Make predictions on test \n",
    "predictions = recommend_artist_model.transform(test)\n",
    "predicted_test_df = predictions.filter(predictions.prediction != float('nan'))# more information for this: https://issues.apache.org/jira/browse/SPARK-14489\n",
    "# Round floats to whole numbers\n",
    "predicted_test_df = predicted_test_df.withColumn(\"prediction\", F.abs(F.round(predicted_test_df[\"prediction\"],0)))\n",
    "\n",
    "test_RMSE = reg_eval.evaluate(predicted_test_df)\n",
    "\n",
    "print('The model have RMSE on the test:{0}'.format(test_RMSE))"
   ]
  },
  {
   "cell_type": "code",
   "execution_count": 38,
   "id": "cce0bb8b",
   "metadata": {},
   "outputs": [
    {
     "name": "stdout",
     "output_type": "stream",
     "text": [
      "+----------------------------------------+-----------------------+----------+------------+\n",
      "|user_id                                 |artist_name            |prediction|listen_count|\n",
      "+----------------------------------------+-----------------------+----------+------------+\n",
      "|edc19f85936d55d76b673d008bd2d220707af47a|The Killers            |1.0       |5.0         |\n",
      "|6a944bfe30ae8d6b873139e8305ae131f1607d5f|Jonas Brothers         |7.0       |6.0         |\n",
      "|6a944bfe30ae8d6b873139e8305ae131f1607d5f|The Mercury Program    |2.0       |5.0         |\n",
      "|6a944bfe30ae8d6b873139e8305ae131f1607d5f|Rihanna                |2.0       |6.0         |\n",
      "|6a944bfe30ae8d6b873139e8305ae131f1607d5f|Alliance Ethnik        |5.0       |7.0         |\n",
      "|ee7aa84c164038c963cfd02a7e52a5598aa470c3|PJ Harvey              |2.0       |5.0         |\n",
      "|ee7aa84c164038c963cfd02a7e52a5598aa470c3|Orishas                |3.0       |5.0         |\n",
      "|ee7aa84c164038c963cfd02a7e52a5598aa470c3|The Roots / Erykah Badu|4.0       |5.0         |\n",
      "|ee7aa84c164038c963cfd02a7e52a5598aa470c3|Massive Attack         |4.0       |5.0         |\n",
      "|4be305e02f4e72dad1b8ac78e630403543bab994|Miley Cyrus            |11.0      |7.0         |\n",
      "+----------------------------------------+-----------------------+----------+------------+\n",
      "only showing top 10 rows\n",
      "\n"
     ]
    }
   ],
   "source": [
    "predicted_test_df = predicted_test_df.withColumn('column_condition',predicted_test_df.prediction-predicted_test_df.listen_count)\n",
    "predicted_test_df.select(\"user_id\",\"artist_name\",\"prediction\",\"listen_count\").filter(predicted_test_df.listen_count>4).filter(predicted_test_df.column_condition<5).filter(predicted_test_df.column_condition>-5).show(10,False)"
   ]
  },
  {
   "cell_type": "markdown",
   "id": "e5798244",
   "metadata": {},
   "source": [
    "### 3.3 Recommend for user"
   ]
  },
  {
   "cell_type": "code",
   "execution_count": 39,
   "id": "e7bfff69",
   "metadata": {},
   "outputs": [],
   "source": [
    "def get_index_of_user_id_for_artist(user_id):\n",
    "    result=df_artist_listen.filter(df_artist_listen[\"user_id\"]==user_id).select(\"user_id_index\").collect()[0][0]\n",
    "    return result\n",
    "\n",
    "\n",
    "def get_recs_artist_for_user(recs):\n",
    "    recs = recs.select(\"recommendations.artist_name_index\",\"recommendations.rating\")\n",
    "    songs=recs.select(\"artist_name_index\").toPandas().iloc[0,0]\n",
    "    listencount=recs.select(\"rating\").toPandas().iloc[0,0]\n",
    "    ltc_matrix = pd.DataFrame(songs,columns=[\"artist_name_index\"])\n",
    "    ltc_matrix[\"prediction\"] = listencount\n",
    "    ltc_matrix_ps = spark.createDataFrame(ltc_matrix)\n",
    "    ltc_matrix_ps=ltc_matrix_ps.join(df_artist_listen.select(\"artist_name\",\"artist_name_index\").distinct(),               \n",
    "                     ltc_matrix_ps.artist_name_index==df_artist_listen.artist_name_index\n",
    "                    ,\"inner\"\n",
    "                    ).select(\"artist_name\",\"prediction\")\n",
    "    ltc_matrix_ps=ltc_matrix_ps.withColumn(\"prediction\", F.abs(F.round(ltc_matrix_ps[\"prediction\"],0)))\n",
    "    return ltc_matrix_ps"
   ]
  },
  {
   "cell_type": "code",
   "execution_count": 44,
   "id": "1011b3a5",
   "metadata": {},
   "outputs": [
    {
     "name": "stdout",
     "output_type": "stream",
     "text": [
      "+-------------+--------------------------------------------------------------------------------------------+\n",
      "|user_id_index|recommendations                                                                             |\n",
      "+-------------+--------------------------------------------------------------------------------------------+\n",
      "|26           |[{2588, 70.63269}, {3275, 65.24364}, {479, 61.141174}, {1313, 39.12685}, {1245, 32.891277}] |\n",
      "|27           |[{2756, 236.82094}, {834, 94.55748}, {3039, 71.32569}, {917, 68.5653}, {264, 65.3878}]      |\n",
      "|28           |[{1399, 83.59966}, {2756, 60.221848}, {2200, 54.727703}, {264, 54.401443}, {973, 53.623623}]|\n",
      "|31           |[{834, 49.842453}, {917, 49.044624}, {2404, 46.608}, {2455, 40.25388}, {2256, 37.574635}]   |\n",
      "|34           |[{264, 132.89822}, {2657, 82.539764}, {1780, 82.40706}, {1400, 74.47216}, {1916, 73.03519}] |\n",
      "+-------------+--------------------------------------------------------------------------------------------+\n",
      "only showing top 5 rows\n",
      "\n"
     ]
    }
   ],
   "source": [
    "#recommend artists for user\n",
    "recs_user = recommend_artist_model.recommendForAllUsers(5)\n",
    "recs_user.show(5,False)"
   ]
  },
  {
   "cell_type": "code",
   "execution_count": 47,
   "id": "6337fb56",
   "metadata": {},
   "outputs": [
    {
     "name": "stderr",
     "output_type": "stream",
     "text": [
      "D:\\InstallApp\\PySpark\\spark-3.2.2-bin-hadoop3.2\\python\\pyspark\\sql\\pandas\\conversion.py:371: FutureWarning: iteritems is deprecated and will be removed in a future version. Use .items instead.\n",
      "  for column, series in pdf.iteritems():\n"
     ]
    },
    {
     "name": "stdout",
     "output_type": "stream",
     "text": [
      "+--------------------+----------+\n",
      "|         artist_name|prediction|\n",
      "+--------------------+----------+\n",
      "|Scottish Chamber ...|      15.0|\n",
      "|      Horse The Band|      15.0|\n",
      "|       Vienio & Pele|      16.0|\n",
      "|            Savatage|      24.0|\n",
      "|     The Futureheads|      25.0|\n",
      "+--------------------+----------+\n",
      "\n"
     ]
    }
   ],
   "source": [
    "recs_user = recommend_artist_model.recommendForAllUsers(5)\n",
    "user_id=\"b80344d063b5ccb3212f76538f3d9e43d87dca9e\"\n",
    "user_id_index=get_index_of_user_id_for_artist(user_id)\n",
    "\n",
    "# recommend for a special user\n",
    "a=get_recs_artist_for_user(recs_user.filter(recs_user[\"user_id_index\"]==user_id_index))\n",
    "\n",
    "a.orderBy(\"prediction\").show()"
   ]
  }
 ],
 "metadata": {
  "kernelspec": {
   "display_name": "Python 3 (ipykernel)",
   "language": "python",
   "name": "python3"
  },
  "language_info": {
   "codemirror_mode": {
    "name": "ipython",
    "version": 3
   },
   "file_extension": ".py",
   "mimetype": "text/x-python",
   "name": "python",
   "nbconvert_exporter": "python",
   "pygments_lexer": "ipython3",
   "version": "3.7.8"
  },
  "varInspector": {
   "cols": {
    "lenName": 16,
    "lenType": 16,
    "lenVar": 40
   },
   "kernels_config": {
    "python": {
     "delete_cmd_postfix": "",
     "delete_cmd_prefix": "del ",
     "library": "var_list.py",
     "varRefreshCmd": "print(var_dic_list())"
    },
    "r": {
     "delete_cmd_postfix": ") ",
     "delete_cmd_prefix": "rm(",
     "library": "var_list.r",
     "varRefreshCmd": "cat(var_dic_list()) "
    }
   },
   "types_to_exclude": [
    "module",
    "function",
    "builtin_function_or_method",
    "instance",
    "_Feature"
   ],
   "window_display": false
  },
  "vscode": {
   "interpreter": {
    "hash": "a85544f5f33cbb8ee2396a69b67c001450d2e6b8f1d310172f37abe393e30c90"
   }
  }
 },
 "nbformat": 4,
 "nbformat_minor": 5
}
