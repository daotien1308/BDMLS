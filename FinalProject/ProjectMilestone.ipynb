{
 "cells": [
  {
   "cell_type": "markdown",
   "id": "1a17d017",
   "metadata": {},
   "source": [
    "# Project Milestone - Nhóm 2\n",
    "\n",
    "### Big Data Applications: Machine Learning at Scale\n",
    "\n",
    "### Đề tài: Music recommendation system\n",
    "\n",
    "### GV: Quách Đình Hoàng\n",
    "\n",
    "\n",
    "### Members:\n",
    "\n",
    "1. Nguyễn Anh Đắc - 19133020\n",
    "\n",
    "2. Nguyễn Thanh Tân Kỷ - 19133031\n",
    "\n",
    "3. Đào Thị Cẩm Tiên - 19133055\n",
    "\n",
    "4. Lại Hữu Trác - 19133059"
   ]
  },
  {
   "cell_type": "markdown",
   "id": "76ffa648",
   "metadata": {},
   "source": [
    "### 1. Thông tin về project"
   ]
  },
  {
   "cell_type": "markdown",
   "id": "ef233a50",
   "metadata": {},
   "source": [
    "#### a. Bài toán mà nhóm muốn giải quyết"
   ]
  },
  {
   "cell_type": "markdown",
   "id": "62205c01",
   "metadata": {},
   "source": [
    "- Tạo một hệ thống đề xuất các bài hát cho người dùng dựa vào số lượng lượt nghe của các bài hát\n",
    "- Các nhạc sĩ đang thịnh hành\n",
    "- Hiển thị top các bài hát đang thịnh hành trên hệ thống"
   ]
  },
  {
   "cell_type": "markdown",
   "id": "eb9cf9ff",
   "metadata": {},
   "source": [
    "#### b. Tập dữ liệu, input/output của bài toán"
   ]
  },
  {
   "cell_type": "markdown",
   "id": "ec339d4e",
   "metadata": {},
   "source": [
    "- Tập dữ liệu: Million Song - Recommendation Engines (Gồm có \"10000.txt\" và \"song_data.csv\")\n",
    "- Link dataset: https://www.kaggle.com/code/mgmarques/million-song-recommendation-engines/data\n",
    "- Tập dữ liệu về user (10000.txt) có 3 cột và 2000000 dòng chứa số lượt phát của người dùng ẩn danh cho các bài hát có trong tập dữ liệu triệu bài hát\n",
    "    + user_id: ID của người dùng\n",
    "    + song_id: ID của bài hát\n",
    "    + listen_count: Lượt nghe của bài hát\n",
    "- Tập dữ liệu về bài hát (song_data.csv) có 5 cột và 1000000 dòng chứa các thuộc tính của một triệu bài hát\n",
    "    + song_id: ID của bài hát\n",
    "    + title: Tên bài hát\n",
    "    + release: Tên ablum của bài hát đó\n",
    "    + artist_name: Tên nghệ sĩ, ca sĩ\n",
    "    + year: Năm bài hát được phát hành\n",
    "- Input: Tập dữ liệu về user (10000.txt) và tập dữ liệu về bài hát (song_data.csv)\n",
    "- Ouput: List bài hát được đề xuất cho user"
   ]
  },
  {
   "cell_type": "code",
   "execution_count": 1,
   "id": "59a3ba31",
   "metadata": {},
   "outputs": [
    {
     "data": {
      "text/plain": [
       "Index(['song_id', 'title', 'release', 'artist_name', 'year'], dtype='object')"
      ]
     },
     "execution_count": 1,
     "metadata": {},
     "output_type": "execute_result"
    }
   ],
   "source": [
    "import pandas as pd\n",
    "import numpy as np\n",
    "import matplotlib.pyplot as plt\n",
    "import plotly.express as px\n",
    "import seaborn as sns\n",
    "\n",
    "data_song = pd.read_csv(\"song_data.csv\")\n",
    "data_song.columns"
   ]
  },
  {
   "cell_type": "code",
   "execution_count": 2,
   "id": "e13b95a9",
   "metadata": {},
   "outputs": [
    {
     "data": {
      "text/html": [
       "<div>\n",
       "<style scoped>\n",
       "    .dataframe tbody tr th:only-of-type {\n",
       "        vertical-align: middle;\n",
       "    }\n",
       "\n",
       "    .dataframe tbody tr th {\n",
       "        vertical-align: top;\n",
       "    }\n",
       "\n",
       "    .dataframe thead th {\n",
       "        text-align: right;\n",
       "    }\n",
       "</style>\n",
       "<table border=\"1\" class=\"dataframe\">\n",
       "  <thead>\n",
       "    <tr style=\"text-align: right;\">\n",
       "      <th></th>\n",
       "      <th>song_id</th>\n",
       "      <th>title</th>\n",
       "      <th>release</th>\n",
       "      <th>artist_name</th>\n",
       "      <th>year</th>\n",
       "    </tr>\n",
       "  </thead>\n",
       "  <tbody>\n",
       "    <tr>\n",
       "      <th>0</th>\n",
       "      <td>SOQMMHC12AB0180CB8</td>\n",
       "      <td>Silent Night</td>\n",
       "      <td>Monster Ballads X-Mas</td>\n",
       "      <td>Faster Pussy cat</td>\n",
       "      <td>2003</td>\n",
       "    </tr>\n",
       "    <tr>\n",
       "      <th>1</th>\n",
       "      <td>SOVFVAK12A8C1350D9</td>\n",
       "      <td>Tanssi vaan</td>\n",
       "      <td>Karkuteillä</td>\n",
       "      <td>Karkkiautomaatti</td>\n",
       "      <td>1995</td>\n",
       "    </tr>\n",
       "    <tr>\n",
       "      <th>2</th>\n",
       "      <td>SOGTUKN12AB017F4F1</td>\n",
       "      <td>No One Could Ever</td>\n",
       "      <td>Butter</td>\n",
       "      <td>Hudson Mohawke</td>\n",
       "      <td>2006</td>\n",
       "    </tr>\n",
       "  </tbody>\n",
       "</table>\n",
       "</div>"
      ],
      "text/plain": [
       "              song_id              title                release  \\\n",
       "0  SOQMMHC12AB0180CB8       Silent Night  Monster Ballads X-Mas   \n",
       "1  SOVFVAK12A8C1350D9        Tanssi vaan            Karkuteillä   \n",
       "2  SOGTUKN12AB017F4F1  No One Could Ever                 Butter   \n",
       "\n",
       "        artist_name  year  \n",
       "0  Faster Pussy cat  2003  \n",
       "1  Karkkiautomaatti  1995  \n",
       "2    Hudson Mohawke  2006  "
      ]
     },
     "execution_count": 2,
     "metadata": {},
     "output_type": "execute_result"
    }
   ],
   "source": [
    "# 3 dòng đầu tiên:\n",
    "data_song.head(3)"
   ]
  },
  {
   "cell_type": "code",
   "execution_count": 3,
   "id": "7beb80e8",
   "metadata": {},
   "outputs": [
    {
     "data": {
      "text/html": [
       "<div>\n",
       "<style scoped>\n",
       "    .dataframe tbody tr th:only-of-type {\n",
       "        vertical-align: middle;\n",
       "    }\n",
       "\n",
       "    .dataframe tbody tr th {\n",
       "        vertical-align: top;\n",
       "    }\n",
       "\n",
       "    .dataframe thead th {\n",
       "        text-align: right;\n",
       "    }\n",
       "</style>\n",
       "<table border=\"1\" class=\"dataframe\">\n",
       "  <thead>\n",
       "    <tr style=\"text-align: right;\">\n",
       "      <th></th>\n",
       "      <th>song_id</th>\n",
       "      <th>title</th>\n",
       "      <th>release</th>\n",
       "      <th>artist_name</th>\n",
       "      <th>year</th>\n",
       "    </tr>\n",
       "  </thead>\n",
       "  <tbody>\n",
       "    <tr>\n",
       "      <th>999997</th>\n",
       "      <td>SOHODZI12A8C137BB3</td>\n",
       "      <td>Novemba</td>\n",
       "      <td>Dub_Connected: electronic music</td>\n",
       "      <td>Gabriel Le Mar</td>\n",
       "      <td>0</td>\n",
       "    </tr>\n",
       "    <tr>\n",
       "      <th>999998</th>\n",
       "      <td>SOLXGOR12A81C21EB7</td>\n",
       "      <td>Faraday</td>\n",
       "      <td>The Trance Collection Vol. 2</td>\n",
       "      <td>Elude</td>\n",
       "      <td>0</td>\n",
       "    </tr>\n",
       "    <tr>\n",
       "      <th>999999</th>\n",
       "      <td>SOWXJXQ12AB0189F43</td>\n",
       "      <td>Fernweh feat. Sektion Kuchikäschtli</td>\n",
       "      <td>So Oder So</td>\n",
       "      <td>Texta</td>\n",
       "      <td>2004</td>\n",
       "    </tr>\n",
       "  </tbody>\n",
       "</table>\n",
       "</div>"
      ],
      "text/plain": [
       "                   song_id                                title  \\\n",
       "999997  SOHODZI12A8C137BB3                              Novemba   \n",
       "999998  SOLXGOR12A81C21EB7                              Faraday   \n",
       "999999  SOWXJXQ12AB0189F43  Fernweh feat. Sektion Kuchikäschtli   \n",
       "\n",
       "                                release     artist_name  year  \n",
       "999997  Dub_Connected: electronic music  Gabriel Le Mar     0  \n",
       "999998     The Trance Collection Vol. 2           Elude     0  \n",
       "999999                       So Oder So           Texta  2004  "
      ]
     },
     "execution_count": 3,
     "metadata": {},
     "output_type": "execute_result"
    }
   ],
   "source": [
    "# 3 dòng cuối:\n",
    "data_song.tail(3)"
   ]
  },
  {
   "cell_type": "code",
   "execution_count": 4,
   "id": "7ed2f932",
   "metadata": {},
   "outputs": [
    {
     "data": {
      "text/plain": [
       "(1000000, 5)"
      ]
     },
     "execution_count": 4,
     "metadata": {},
     "output_type": "execute_result"
    }
   ],
   "source": [
    "data_song.shape"
   ]
  },
  {
   "cell_type": "code",
   "execution_count": 5,
   "id": "04e5dad6",
   "metadata": {},
   "outputs": [
    {
     "data": {
      "text/html": [
       "<div>\n",
       "<style scoped>\n",
       "    .dataframe tbody tr th:only-of-type {\n",
       "        vertical-align: middle;\n",
       "    }\n",
       "\n",
       "    .dataframe tbody tr th {\n",
       "        vertical-align: top;\n",
       "    }\n",
       "\n",
       "    .dataframe thead th {\n",
       "        text-align: right;\n",
       "    }\n",
       "</style>\n",
       "<table border=\"1\" class=\"dataframe\">\n",
       "  <thead>\n",
       "    <tr style=\"text-align: right;\">\n",
       "      <th></th>\n",
       "      <th>user_id</th>\n",
       "      <th>song_id</th>\n",
       "      <th>listen_count</th>\n",
       "    </tr>\n",
       "  </thead>\n",
       "  <tbody>\n",
       "    <tr>\n",
       "      <th>0</th>\n",
       "      <td>b80344d063b5ccb3212f76538f3d9e43d87dca9e</td>\n",
       "      <td>SOAKIMP12A8C130995</td>\n",
       "      <td>1</td>\n",
       "    </tr>\n",
       "    <tr>\n",
       "      <th>1</th>\n",
       "      <td>b80344d063b5ccb3212f76538f3d9e43d87dca9e</td>\n",
       "      <td>SOBBMDR12A8C13253B</td>\n",
       "      <td>2</td>\n",
       "    </tr>\n",
       "    <tr>\n",
       "      <th>2</th>\n",
       "      <td>b80344d063b5ccb3212f76538f3d9e43d87dca9e</td>\n",
       "      <td>SOBXHDL12A81C204C0</td>\n",
       "      <td>1</td>\n",
       "    </tr>\n",
       "    <tr>\n",
       "      <th>3</th>\n",
       "      <td>b80344d063b5ccb3212f76538f3d9e43d87dca9e</td>\n",
       "      <td>SOBYHAJ12A6701BF1D</td>\n",
       "      <td>1</td>\n",
       "    </tr>\n",
       "    <tr>\n",
       "      <th>4</th>\n",
       "      <td>b80344d063b5ccb3212f76538f3d9e43d87dca9e</td>\n",
       "      <td>SODACBL12A8C13C273</td>\n",
       "      <td>1</td>\n",
       "    </tr>\n",
       "    <tr>\n",
       "      <th>5</th>\n",
       "      <td>b80344d063b5ccb3212f76538f3d9e43d87dca9e</td>\n",
       "      <td>SODDNQT12A6D4F5F7E</td>\n",
       "      <td>5</td>\n",
       "    </tr>\n",
       "    <tr>\n",
       "      <th>6</th>\n",
       "      <td>b80344d063b5ccb3212f76538f3d9e43d87dca9e</td>\n",
       "      <td>SODXRTY12AB0180F3B</td>\n",
       "      <td>1</td>\n",
       "    </tr>\n",
       "    <tr>\n",
       "      <th>7</th>\n",
       "      <td>b80344d063b5ccb3212f76538f3d9e43d87dca9e</td>\n",
       "      <td>SOFGUAY12AB017B0A8</td>\n",
       "      <td>1</td>\n",
       "    </tr>\n",
       "    <tr>\n",
       "      <th>8</th>\n",
       "      <td>b80344d063b5ccb3212f76538f3d9e43d87dca9e</td>\n",
       "      <td>SOFRQTD12A81C233C0</td>\n",
       "      <td>1</td>\n",
       "    </tr>\n",
       "    <tr>\n",
       "      <th>9</th>\n",
       "      <td>b80344d063b5ccb3212f76538f3d9e43d87dca9e</td>\n",
       "      <td>SOHQWYZ12A6D4FA701</td>\n",
       "      <td>1</td>\n",
       "    </tr>\n",
       "  </tbody>\n",
       "</table>\n",
       "</div>"
      ],
      "text/plain": [
       "                                    user_id             song_id  listen_count\n",
       "0  b80344d063b5ccb3212f76538f3d9e43d87dca9e  SOAKIMP12A8C130995             1\n",
       "1  b80344d063b5ccb3212f76538f3d9e43d87dca9e  SOBBMDR12A8C13253B             2\n",
       "2  b80344d063b5ccb3212f76538f3d9e43d87dca9e  SOBXHDL12A81C204C0             1\n",
       "3  b80344d063b5ccb3212f76538f3d9e43d87dca9e  SOBYHAJ12A6701BF1D             1\n",
       "4  b80344d063b5ccb3212f76538f3d9e43d87dca9e  SODACBL12A8C13C273             1\n",
       "5  b80344d063b5ccb3212f76538f3d9e43d87dca9e  SODDNQT12A6D4F5F7E             5\n",
       "6  b80344d063b5ccb3212f76538f3d9e43d87dca9e  SODXRTY12AB0180F3B             1\n",
       "7  b80344d063b5ccb3212f76538f3d9e43d87dca9e  SOFGUAY12AB017B0A8             1\n",
       "8  b80344d063b5ccb3212f76538f3d9e43d87dca9e  SOFRQTD12A81C233C0             1\n",
       "9  b80344d063b5ccb3212f76538f3d9e43d87dca9e  SOHQWYZ12A6D4FA701             1"
      ]
     },
     "execution_count": 5,
     "metadata": {},
     "output_type": "execute_result"
    }
   ],
   "source": [
    "data_user = pd.read_csv('10000.txt', sep='\\t', header=None)\n",
    "data_user.columns = ['user_id', 'song_id', 'listen_count']\n",
    "data_user.head()\n",
    "data_user.to_csv(\"out.csv\")\n",
    "data_user.head(10)"
   ]
  },
  {
   "cell_type": "code",
   "execution_count": 6,
   "id": "1ae6d332",
   "metadata": {},
   "outputs": [
    {
     "data": {
      "text/plain": [
       "(2000000, 3)"
      ]
     },
     "execution_count": 6,
     "metadata": {},
     "output_type": "execute_result"
    }
   ],
   "source": [
    "data_user.shape"
   ]
  },
  {
   "cell_type": "markdown",
   "id": "e4ff1958",
   "metadata": {},
   "source": [
    "#### c. Cách đánh giá kết quả"
   ]
  },
  {
   "cell_type": "markdown",
   "id": "68ec8848",
   "metadata": {},
   "source": [
    "- Nhóm em sẽ thực hiện theo cách tiếp cận Collaborative filtering - xây dựng hệ thống gợi ý dựa trên các ngươi dùng tương đồng.\n",
    "- Thuật toán sử dụng:\n",
    "Alternating least squares"
   ]
  },
  {
   "cell_type": "markdown",
   "id": "cbe22adc",
   "metadata": {},
   "source": [
    "### 2. Giải pháp"
   ]
  },
  {
   "cell_type": "code",
   "execution_count": 7,
   "id": "39da99aa",
   "metadata": {},
   "outputs": [],
   "source": [
    "import findspark\n",
    "findspark.init()\n",
    "\n",
    "import pyspark\n",
    "findspark.find()\n",
    "from pyspark.sql import SparkSession\n",
    "from pyspark.sql.functions import count, desc , col, max\n",
    "from pyspark.ml.feature import  StringIndexer\n",
    "from pyspark.ml import Pipeline\n",
    "from pyspark.sql import Row\n",
    "from pyspark.ml.recommendation import ALS\n",
    "from pyspark.ml.evaluation import RegressionEvaluator\n",
    "from pyspark.ml.tuning import TrainValidationSplit, ParamGridBuilder"
   ]
  },
  {
   "cell_type": "code",
   "execution_count": 8,
   "id": "1b71569e",
   "metadata": {},
   "outputs": [],
   "source": [
    "spark = SparkSession.builder.appName(\"lastfm\").getOrCreate()"
   ]
  },
  {
   "cell_type": "code",
   "execution_count": 9,
   "id": "f9ff8551",
   "metadata": {},
   "outputs": [
    {
     "name": "stdout",
     "output_type": "stream",
     "text": [
      "+---+--------------------+------------------+------------+\n",
      "|_c0|             user_id|           song_id|listen_count|\n",
      "+---+--------------------+------------------+------------+\n",
      "|  0|b80344d063b5ccb32...|SOAKIMP12A8C130995|           1|\n",
      "|  1|b80344d063b5ccb32...|SOBBMDR12A8C13253B|           2|\n",
      "|  2|b80344d063b5ccb32...|SOBXHDL12A81C204C0|           1|\n",
      "|  3|b80344d063b5ccb32...|SOBYHAJ12A6701BF1D|           1|\n",
      "|  4|b80344d063b5ccb32...|SODACBL12A8C13C273|           1|\n",
      "|  5|b80344d063b5ccb32...|SODDNQT12A6D4F5F7E|           5|\n",
      "|  6|b80344d063b5ccb32...|SODXRTY12AB0180F3B|           1|\n",
      "|  7|b80344d063b5ccb32...|SOFGUAY12AB017B0A8|           1|\n",
      "|  8|b80344d063b5ccb32...|SOFRQTD12A81C233C0|           1|\n",
      "|  9|b80344d063b5ccb32...|SOHQWYZ12A6D4FA701|           1|\n",
      "| 10|b80344d063b5ccb32...|SOIYTOA12A6D4F9A23|           1|\n",
      "| 11|b80344d063b5ccb32...|SOIZAZL12A6701C53B|           5|\n",
      "| 12|b80344d063b5ccb32...|SOJNNUA12A8AE48C7A|           1|\n",
      "| 13|b80344d063b5ccb32...|SOJPFQG12A58A7833A|           1|\n",
      "| 14|b80344d063b5ccb32...|SOKRIMP12A6D4F5DA3|           5|\n",
      "| 15|b80344d063b5ccb32...|SOLLGNU12AF72A4D4F|           1|\n",
      "| 16|b80344d063b5ccb32...|SOMGIYR12AB0187973|           6|\n",
      "| 17|b80344d063b5ccb32...|SOMLMKI12A81C204BC|           1|\n",
      "| 18|b80344d063b5ccb32...|SOMSQJY12A8C138539|           1|\n",
      "| 19|b80344d063b5ccb32...|SONSAEZ12A8C138D7A|           1|\n",
      "+---+--------------------+------------------+------------+\n",
      "only showing top 20 rows\n",
      "\n",
      "2000000 4\n"
     ]
    }
   ],
   "source": [
    "file_path = './out.csv'\n",
    "df_listenings_agg  = spark.read.format('csv').option('header',True).option('inferSchema',True).load(file_path)                    #spark.createDataFrame(data_user) #spark.read.text(file_path).option('header',True).option('inferSchema',True) #data frame, header will infer column types from csv\n",
    "df_listenings_agg .show()\n",
    "row = df_listenings_agg.count()\n",
    "col = len(df_listenings_agg.columns)\n",
    "print(row,col)"
   ]
  },
  {
   "cell_type": "code",
   "execution_count": 10,
   "id": "16761ba8",
   "metadata": {},
   "outputs": [
    {
     "name": "stdout",
     "output_type": "stream",
     "text": [
      "2000000 4\n"
     ]
    }
   ],
   "source": [
    "row = df_listenings_agg.count()\n",
    "col = len(df_listenings_agg.columns)\n",
    "print(row,col)"
   ]
  },
  {
   "cell_type": "code",
   "execution_count": 11,
   "id": "37cfe772",
   "metadata": {},
   "outputs": [],
   "source": [
    "df_listenings_agg = df_listenings_agg.limit(20000)"
   ]
  },
  {
   "cell_type": "code",
   "execution_count": 12,
   "id": "363a945c",
   "metadata": {},
   "outputs": [
    {
     "name": "stdout",
     "output_type": "stream",
     "text": [
      "+---+--------------------+------------------+------------+---------+-------------+-------------+------------------+\n",
      "|_c0|             user_id|           song_id|listen_count|_c0_index|song_id_index|user_id_index|listen_count_index|\n",
      "+---+--------------------+------------------+------------+---------+-------------+-------------+------------------+\n",
      "|  0|b80344d063b5ccb32...|SOAKIMP12A8C130995|           1|      0.0|       2502.0|        111.0|               0.0|\n",
      "|  1|b80344d063b5ccb32...|SOBBMDR12A8C13253B|           2|      1.0|       2550.0|        111.0|               1.0|\n",
      "|  2|b80344d063b5ccb32...|SOBXHDL12A81C204C0|           1|  11112.0|        253.0|        111.0|               0.0|\n",
      "|  3|b80344d063b5ccb32...|SOBYHAJ12A6701BF1D|           1|  12223.0|        212.0|        111.0|               0.0|\n",
      "|  4|b80344d063b5ccb32...|SODACBL12A8C13C273|           1|  13334.0|        214.0|        111.0|               0.0|\n",
      "|  5|b80344d063b5ccb32...|SODDNQT12A6D4F5F7E|           5|  14445.0|       4661.0|        111.0|               3.0|\n",
      "|  6|b80344d063b5ccb32...|SODXRTY12AB0180F3B|           1|  15556.0|        433.0|        111.0|               0.0|\n",
      "|  7|b80344d063b5ccb32...|SOFGUAY12AB017B0A8|           1|  16667.0|       2838.0|        111.0|               0.0|\n",
      "|  8|b80344d063b5ccb32...|SOFRQTD12A81C233C0|           1|  17778.0|          0.0|        111.0|               0.0|\n",
      "|  9|b80344d063b5ccb32...|SOHQWYZ12A6D4FA701|           1|  18889.0|       1725.0|        111.0|               0.0|\n",
      "| 10|b80344d063b5ccb32...|SOIYTOA12A6D4F9A23|           1|      2.0|       5363.0|        111.0|               0.0|\n",
      "| 11|b80344d063b5ccb32...|SOIZAZL12A6701C53B|           5|   1113.0|        338.0|        111.0|               3.0|\n",
      "| 12|b80344d063b5ccb32...|SOJNNUA12A8AE48C7A|           1|   2224.0|        268.0|        111.0|               0.0|\n",
      "| 13|b80344d063b5ccb32...|SOJPFQG12A58A7833A|           1|   3335.0|       5435.0|        111.0|               0.0|\n",
      "| 14|b80344d063b5ccb32...|SOKRIMP12A6D4F5DA3|           5|   4446.0|        712.0|        111.0|               3.0|\n",
      "| 15|b80344d063b5ccb32...|SOLLGNU12AF72A4D4F|           1|   5557.0|       3296.0|        111.0|               0.0|\n",
      "| 16|b80344d063b5ccb32...|SOMGIYR12AB0187973|           6|   6668.0|        128.0|        111.0|               5.0|\n",
      "| 17|b80344d063b5ccb32...|SOMLMKI12A81C204BC|           1|   7779.0|        732.0|        111.0|               0.0|\n",
      "| 18|b80344d063b5ccb32...|SOMSQJY12A8C138539|           1|   8890.0|       5818.0|        111.0|               0.0|\n",
      "| 19|b80344d063b5ccb32...|SONSAEZ12A8C138D7A|           1|  10001.0|        751.0|        111.0|               0.0|\n",
      "| 20|b80344d063b5ccb32...|SOOKGRB12A8C13CD66|           1|  11113.0|        498.0|        111.0|               0.0|\n",
      "| 21|b80344d063b5ccb32...|SOPCVQE12AC468AF36|           1|  11224.0|       3558.0|        111.0|               0.0|\n",
      "| 22|b80344d063b5ccb32...|SOQIVUD12AB01821D2|           1|  11335.0|       6240.0|        111.0|               0.0|\n",
      "| 23|b80344d063b5ccb32...|SOQJLDY12AAF3B456D|           1|  11446.0|       6243.0|        111.0|               0.0|\n",
      "| 24|b80344d063b5ccb32...|SOQLCKR12A81C22440|           1|  11557.0|       6249.0|        111.0|               0.0|\n",
      "+---+--------------------+------------------+------------+---------+-------------+-------------+------------------+\n",
      "only showing top 25 rows\n",
      "\n"
     ]
    }
   ],
   "source": [
    "old_strindexer = [StringIndexer(inputCol = col, outputCol = col + '_index').fit(df_listenings_agg) for col in list(set(df_listenings_agg.columns)- set(['count']))]\n",
    "indexer = [curr_strindexer.setHandleInvalid(\"keep\") for curr_strindexer in old_strindexer]\n",
    "pipeline = Pipeline(stages = indexer)\n",
    "data_p = pipeline.fit(df_listenings_agg).transform(df_listenings_agg)\n",
    "data_p.show(25)"
   ]
  },
  {
   "cell_type": "code",
   "execution_count": 13,
   "id": "56b534ed",
   "metadata": {},
   "outputs": [
    {
     "name": "stdout",
     "output_type": "stream",
     "text": [
      "+-------------+-------------+------------+\n",
      "|user_id_index|song_id_index|listen_count|\n",
      "+-------------+-------------+------------+\n",
      "|          0.0|         44.0|           1|\n",
      "|          0.0|       2572.0|           2|\n",
      "|          0.0|        578.0|           3|\n",
      "|          0.0|        415.0|           1|\n",
      "|          0.0|       1431.0|           1|\n",
      "|          0.0|        580.0|           2|\n",
      "|          0.0|        176.0|          20|\n",
      "|          0.0|       4353.0|           1|\n",
      "|          0.0|       4354.0|           1|\n",
      "|          0.0|        419.0|           7|\n",
      "|          0.0|       1444.0|           2|\n",
      "|          0.0|       2523.0|           1|\n",
      "|          0.0|       2529.0|           1|\n",
      "|          0.0|        905.0|           2|\n",
      "|          0.0|       2531.0|           1|\n",
      "|          0.0|        251.0|          11|\n",
      "|          0.0|       2539.0|           2|\n",
      "|          0.0|       1456.0|           3|\n",
      "|          0.0|       2557.0|           2|\n",
      "|          0.0|       4417.0|           1|\n",
      "+-------------+-------------+------------+\n",
      "only showing top 20 rows\n",
      "\n"
     ]
    }
   ],
   "source": [
    "data_p = data_p.select('user_id_index', 'song_id_index', 'listen_count').orderBy('user_id_index')\n",
    "data_p.show()"
   ]
  },
  {
   "cell_type": "code",
   "execution_count": 14,
   "id": "b45d3a41",
   "metadata": {},
   "outputs": [],
   "source": [
    "(training, test) = data_p.randomSplit([0.5,0.5])"
   ]
  },
  {
   "cell_type": "code",
   "execution_count": 15,
   "id": "4020dae0",
   "metadata": {},
   "outputs": [
    {
     "name": "stdout",
     "output_type": "stream",
     "text": [
      "nan\n"
     ]
    }
   ],
   "source": [
    "#USERID = \"user_id_index\"\n",
    "#TRACK = \"song_id_index\"\n",
    "#COUNT = \"listen_count\"\n",
    "\n",
    "als = ALS(maxIter = 5, regParam = 0.01, userCol = \"user_id_index\", itemCol = \"song_id_index\", ratingCol = \"listen_count\")\n",
    "# Alternating Least Squares algorithm\n",
    "model = als.fit(training)\n",
    "predictions = model.transform(test)\n",
    "\n",
    "evaluator = RegressionEvaluator(metricName=\"rmse\", labelCol=\"listen_count\", predictionCol=\"prediction\")\n",
    "rmse = evaluator.evaluate(predictions)\n",
    "print(rmse)"
   ]
  },
  {
   "cell_type": "code",
   "execution_count": 16,
   "id": "cf630f50",
   "metadata": {},
   "outputs": [
    {
     "name": "stderr",
     "output_type": "stream",
     "text": [
      "D:\\NAM4\\pySpark\\spark-3.2.2-bin-hadoop3.2\\python\\pyspark\\sql\\context.py:127: FutureWarning: Deprecated in 3.0.0. Use SparkSession.builder.getOrCreate() instead.\n",
      "  FutureWarning\n"
     ]
    },
    {
     "name": "stdout",
     "output_type": "stream",
     "text": [
      "+-------------+--------------------+\n",
      "|user_id_index|     recommendations|\n",
      "+-------------+--------------------+\n",
      "|            1|[{5351, 27.311214...|\n",
      "|            3|[{6930, 23.619585...|\n",
      "|            5|[{5635, 21.949518...|\n",
      "|            6|[{3948, 34.17879}...|\n",
      "|           12|[{4364, 26.419838...|\n",
      "|           13|[{5010, 26.879093...|\n",
      "|           15|[{1298, 27.217657...|\n",
      "|           16|[{5028, 45.224716...|\n",
      "|           19|[{3069, 30.724297...|\n",
      "|           20|[{5635, 46.92202}...|\n",
      "|           22|[{3069, 30.370766...|\n",
      "|           26|[{3069, 61.34582}...|\n",
      "|           27|[{3261, 28.767578...|\n",
      "|           28|[{3988, 30.326637...|\n",
      "|           31|[{1298, 34.157825...|\n",
      "|           34|[{223, 24.380547}...|\n",
      "|           40|[{1869, 55.610744...|\n",
      "|           41|[{3988, 34.498547...|\n",
      "|           43|[{3572, 23.043234...|\n",
      "|           44|[{5635, 7.741981}...|\n",
      "+-------------+--------------------+\n",
      "only showing top 20 rows\n",
      "\n"
     ]
    }
   ],
   "source": [
    "recs = model.recommendForAllUsers(10)\n",
    "recs.show()"
   ]
  },
  {
   "cell_type": "code",
   "execution_count": 17,
   "id": "c9d83400",
   "metadata": {},
   "outputs": [
    {
     "data": {
      "text/plain": [
       "[Row(user_id_index=1, recommendations=[Row(song_id_index=5351, rating=27.311214447021484), Row(song_id_index=411, rating=26.167922973632812), Row(song_id_index=5635, rating=26.006927490234375), Row(song_id_index=24, rating=23.47688865661621), Row(song_id_index=5, rating=21.97063446044922), Row(song_id_index=1005, rating=20.81513023376465), Row(song_id_index=1963, rating=19.567541122436523), Row(song_id_index=2984, rating=18.51605796813965), Row(song_id_index=3261, rating=17.493221282958984), Row(song_id_index=2860, rating=17.24549102783203)])]"
      ]
     },
     "execution_count": 17,
     "metadata": {},
     "output_type": "execute_result"
    }
   ],
   "source": [
    "recs.take(1)"
   ]
  },
  {
   "cell_type": "code",
   "execution_count": null,
   "id": "aa643ec1",
   "metadata": {},
   "outputs": [],
   "source": []
  }
 ],
 "metadata": {
  "kernelspec": {
   "display_name": "Python 3 (ipykernel)",
   "language": "python",
   "name": "python3"
  },
  "language_info": {
   "codemirror_mode": {
    "name": "ipython",
    "version": 3
   },
   "file_extension": ".py",
   "mimetype": "text/x-python",
   "name": "python",
   "nbconvert_exporter": "python",
   "pygments_lexer": "ipython3",
   "version": "3.7.8"
  }
 },
 "nbformat": 4,
 "nbformat_minor": 5
}
