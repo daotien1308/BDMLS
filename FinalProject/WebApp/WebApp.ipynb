{
 "cells": [
  {
   "cell_type": "code",
   "execution_count": 1,
   "metadata": {},
   "outputs": [],
   "source": [
    "import pandas as pd\n",
    "import numpy as np\n",
    "import matplotlib.pyplot as plt\n",
    "import plotly.express as px\n",
    "import seaborn as sns\n",
    "import findspark\n",
    "findspark.init()\n",
    "\n",
    "import pyspark\n",
    "findspark.find()\n",
    "from pyspark.sql import SparkSession\n",
    "from pyspark.sql.functions import count, desc , col, max\n",
    "from pyspark.ml.feature import  StringIndexer\n",
    "from pyspark.ml import Pipeline\n",
    "from pyspark.ml.recommendation import ALS, ALSModel\n",
    "from pyspark.ml.tuning import TrainValidationSplit, ParamGridBuilder\n",
    "from pyspark.ml.evaluation import RegressionEvaluator\n",
    "import os\n",
    "from pyspark.sql.types import *\n",
    "from pyspark.sql import functions as F"
   ]
  },
  {
   "cell_type": "code",
   "execution_count": 2,
   "metadata": {},
   "outputs": [],
   "source": [
    "spark = SparkSession.builder.appName(\"WebApp\").getOrCreate()\n",
    "my_model= ALSModel.load(\"model_recommend_song_for_user\")\n",
    "recommend_artist_model= ALSModel.load(\"model_recommend_artist_for_user\")\n",
    "# model.recommendForAllItems(10).show(3, False)\n"
   ]
  },
  {
   "cell_type": "code",
   "execution_count": 3,
   "metadata": {},
   "outputs": [
    {
     "name": "stderr",
     "output_type": "stream",
     "text": [
      "D:\\InstallApp\\PySpark\\spark-3.2.2-bin-hadoop3.2\\python\\pyspark\\sql\\pandas\\conversion.py:371: FutureWarning: iteritems is deprecated and will be removed in a future version. Use .items instead.\n",
      "  for column, series in pdf.iteritems():\n"
     ]
    }
   ],
   "source": [
    "data_song = pd.read_csv(\"song_data.csv\")\n",
    "data_user = pd.read_csv('10000.txt', sep='\\t', header=None)\n",
    "data_user.columns = ['user_id', 'song_id', 'listen_count']\n",
    "data_user=data_user.dropna()\n",
    "data_song=data_song.dropna()\n",
    "\n",
    "df_listenings_agg  = spark.createDataFrame(data_user)\n",
    "df_song  = spark.createDataFrame(data_song)\n",
    "df_listenings_agg = df_listenings_agg.limit(20000)\n",
    "\n",
    "old_strindexer = [StringIndexer(inputCol = col, outputCol = col + '_index').fit(df_listenings_agg) for col in list(set(df_listenings_agg.columns)- set(['count']))]\n",
    "indexer = [curr_strindexer.setHandleInvalid(\"keep\") for curr_strindexer in old_strindexer]\n",
    "pipeline = Pipeline(stages = indexer)\n",
    "data_temp = pipeline.fit(df_listenings_agg).transform(df_listenings_agg)\n",
    "\n",
    "## for artist\n",
    "df_artist_listen=df_listenings_agg.join(df_song.select(\"song_id\",\"artist_name\").distinct(),\n",
    "                       df_listenings_agg.song_id==df_song.song_id\n",
    "                       ,\"inner\").select('user_id','artist_name', 'listen_count').groupby('user_id','artist_name').sum('listen_count').withColumnRenamed(\"sum(listen_count)\", 'listen_count')\n",
    "#convert column to numberic\n",
    "old_strindexer = [StringIndexer(inputCol = col, outputCol = col + '_index').fit(df_artist_listen) for col in list(set(df_artist_listen.columns)- set(['count']))]\n",
    "indexer = [curr_strindexer.setHandleInvalid(\"keep\") for curr_strindexer in old_strindexer]\n",
    "pipeline = Pipeline(stages = indexer)\n",
    "df_artist_listen = pipeline.fit(df_artist_listen).transform(df_artist_listen)\n",
    "df_artist_listen = df_artist_listen.withColumn(\"listen_count\", df_artist_listen[\"listen_count\"].cast('double'))"
   ]
  },
  {
   "cell_type": "code",
   "execution_count": 8,
   "metadata": {},
   "outputs": [],
   "source": [
    "## Function for recommend user for a Song\n",
    "\n",
    "def get_index_of_user_id(user_id):\n",
    "    result=data_temp.filter(data_temp[\"user_id\"]==user_id).select(\"user_id_index\")\n",
    "    if result.rdd.isEmpty():\n",
    "#     if result.empty:\n",
    "        return -1\n",
    "    return result.select(\"user_id_index\").collect()[0][0]\n",
    "\n",
    "\n",
    "def get_recs_for_user(recs):\n",
    "    recs = recs.select(\"recommendations.song_id_index\",\"recommendations.rating\")\n",
    "    songs=recs.select(\"song_id_index\").toPandas().iloc[0,0]\n",
    "    listencount=recs.select(\"rating\").toPandas().iloc[0,0]\n",
    "    ltc_matrix = pd.DataFrame(songs,columns=[\"song_id_index\"])\n",
    "    ltc_matrix[\"prediction\"] = listencount\n",
    "    ltc_matrix_ps = spark.createDataFrame(ltc_matrix)\n",
    "    ltc_matrix_ps=ltc_matrix_ps.join(data_temp.select(\"song_id\",\"song_id_index\").distinct(),               \n",
    "                     ltc_matrix_ps.song_id_index==data_temp.song_id_index\n",
    "                    ,\"inner\"\n",
    "                    ).select(\"song_id\",\"prediction\")\n",
    "    ltc_matrix_ps=ltc_matrix_ps.withColumn(\"prediction\", F.abs(F.round(ltc_matrix_ps[\"prediction\"],0)))\n",
    "    ltc_matrix_ps=df_song.join(ltc_matrix_ps,\n",
    "                              df_song.song_id==ltc_matrix_ps.song_id, \n",
    "                              'inner').drop(ltc_matrix_ps.song_id).select(\"song_id\",\"title\",\"release\",\"artist_name\",\"year\",\"prediction\")\n",
    "    return ltc_matrix_ps\n",
    "\n",
    "## Function for recommend user for a Song\n",
    "def get_index_of_song_id(user_id):\n",
    "    result=data_temp.filter(data_temp[\"song_id\"]==user_id)\n",
    "    if result.rdd.isEmpty():\n",
    "        return -1\n",
    "    return result.select(\"song_id_index\").collect()[0][0]\n",
    "\n",
    "\n",
    "def get_recs_for_a_song(recs):\n",
    "    recs = recs.select(\"recommendations.user_id_index\",\"recommendations.rating\")\n",
    "    users=recs.select(\"user_id_index\").toPandas().iloc[0,0]\n",
    "    listencount=recs.select(\"rating\").toPandas().iloc[0,0]\n",
    "    ltc_matrix = pd.DataFrame(users,columns=[\"user_id_index\"])\n",
    "    ltc_matrix[\"prediction\"] = listencount\n",
    "    ltc_matrix_ps = spark.createDataFrame(ltc_matrix)\n",
    "    ltc_matrix_ps=ltc_matrix_ps.join(data_temp.select(\"user_id\",\"user_id_index\").distinct(),               \n",
    "                     ltc_matrix_ps.user_id_index==data_temp.user_id_index\n",
    "                    ,\"inner\"\n",
    "                    ).select(\"user_id\",\"prediction\")\n",
    "    ltc_matrix_ps=ltc_matrix_ps.withColumn(\"prediction\", F.abs(F.round(ltc_matrix_ps[\"prediction\"],0)))\n",
    "\n",
    "    return ltc_matrix_ps\n",
    "\n",
    "## Function for recommend artist for a User\n",
    "def get_index_of_user_id_for_artist(user_id):\n",
    "    result=df_artist_listen.filter(df_artist_listen[\"user_id\"]==user_id).select(\"user_id_index\").collect()[0][0]\n",
    "    return result\n",
    "\n",
    "def get_recs_artist_for_user(recs):\n",
    "    recs = recs.select(\"recommendations.artist_name_index\",\"recommendations.rating\")\n",
    "    songs=recs.select(\"artist_name_index\").toPandas().iloc[0,0]\n",
    "    listencount=recs.select(\"rating\").toPandas().iloc[0,0]\n",
    "    ltc_matrix = pd.DataFrame(songs,columns=[\"artist_name_index\"])\n",
    "    ltc_matrix[\"prediction\"] = listencount\n",
    "    ltc_matrix_ps = spark.createDataFrame(ltc_matrix)\n",
    "    ltc_matrix_ps=ltc_matrix_ps.join(df_artist_listen.select(\"artist_name\",\"artist_name_index\").distinct(),               \n",
    "                     ltc_matrix_ps.artist_name_index==df_artist_listen.artist_name_index\n",
    "                    ,\"inner\"\n",
    "                    ).select(\"artist_name\",\"prediction\")\n",
    "    ltc_matrix_ps=ltc_matrix_ps.withColumn(\"prediction\", F.abs(F.round(ltc_matrix_ps[\"prediction\"],0)))\n",
    "    return ltc_matrix_ps"
   ]
  },
  {
   "cell_type": "code",
   "execution_count": 5,
   "metadata": {},
   "outputs": [
    {
     "name": "stdout",
     "output_type": "stream",
     "text": [
      "Connecting to wss://anvil.works/uplink\n",
      "Anvil websocket open\n",
      "Connected to \"Default environment\" as SERVER\n"
     ]
    }
   ],
   "source": [
    "import anvil.server\n",
    "anvil.server.connect(\"FHLEHGTRX7RX6VWDENJFZEO7-4D5ZN6QGSZYZIP3C\")\n"
   ]
  },
  {
   "cell_type": "code",
   "execution_count": 6,
   "metadata": {},
   "outputs": [],
   "source": [
    "@anvil.server.callable\n",
    "def get_recommend_for_a_user(user_id):\n",
    "    recs_user = my_model.recommendForAllUsers(9)\n",
    "#     user_id=\"b80344d063b5ccb3212f76538f3d9e43d87dca9e\"\n",
    "    user_id_index=get_index_of_user_id(user_id)\n",
    "    if(user_id_index<0):\n",
    "        return []\n",
    "    # recommend for a special user\n",
    "    a=get_recs_for_user(recs_user.filter(recs_user[\"user_id_index\"]==user_id_index)) \n",
    "    return a.toPandas().to_numpy().tolist()#a.toPandas().to_dict('records')\n",
    "\n",
    "@anvil.server.callable\n",
    "def get_recommend_for_a_song(song_id):\n",
    "    recs_song = my_model.recommendForAllItems(9)\n",
    "#     song_id=\"SOZPLKR12A6D4F8421\"\n",
    "    song_id_index=get_index_of_song_id(song_id)\n",
    "    if(song_id_index<0):\n",
    "        return []\n",
    "    # recommend for a special song\n",
    "    a=get_recs_for_a_song(recs_song.filter(recs_song[\"song_id_index\"]==song_id_index))\n",
    "\n",
    "    a=a.orderBy(\"prediction\")\n",
    "    # anvil.server.wait_forever()\n",
    "    return a.toPandas().to_numpy().tolist()\n",
    "@anvil.server.callable\n",
    "def get_recommend_artist_for_a_user(user_id):\n",
    "    recs_user = recommend_artist_model.recommendForAllUsers(9)\n",
    "#     user_id=\"b80344d063b5ccb3212f76538f3d9e43d87dca9e\"\n",
    "    user_id_index=get_index_of_user_id_for_artist(user_id)\n",
    "    if(user_id_index<0):\n",
    "        return []\n",
    "    # recommend for a special user\n",
    "    a=get_recs_artist_for_user(recs_user.filter(recs_user[\"user_id_index\"]==user_id_index))\n",
    "\n",
    "    a=a.orderBy(\"prediction\")\n",
    "    # anvil.server.wait_forever()\n",
    "    return a.toPandas().to_numpy().tolist()"
   ]
  }
 ],
 "metadata": {
  "kernelspec": {
   "display_name": "Python 3 (ipykernel)",
   "language": "python",
   "name": "python3"
  },
  "language_info": {
   "codemirror_mode": {
    "name": "ipython",
    "version": 3
   },
   "file_extension": ".py",
   "mimetype": "text/x-python",
   "name": "python",
   "nbconvert_exporter": "python",
   "pygments_lexer": "ipython3",
   "version": "3.10.6"
  },
  "varInspector": {
   "cols": {
    "lenName": 16,
    "lenType": 16,
    "lenVar": 40
   },
   "kernels_config": {
    "python": {
     "delete_cmd_postfix": "",
     "delete_cmd_prefix": "del ",
     "library": "var_list.py",
     "varRefreshCmd": "print(var_dic_list())"
    },
    "r": {
     "delete_cmd_postfix": ") ",
     "delete_cmd_prefix": "rm(",
     "library": "var_list.r",
     "varRefreshCmd": "cat(var_dic_list()) "
    }
   },
   "types_to_exclude": [
    "module",
    "function",
    "builtin_function_or_method",
    "instance",
    "_Feature"
   ],
   "window_display": false
  },
  "vscode": {
   "interpreter": {
    "hash": "a85544f5f33cbb8ee2396a69b67c001450d2e6b8f1d310172f37abe393e30c90"
   }
  }
 },
 "nbformat": 4,
 "nbformat_minor": 2
}
